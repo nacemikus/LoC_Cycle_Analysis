{
 "cells": [
  {
   "cell_type": "markdown",
   "id": "5bd26e31",
   "metadata": {},
   "source": [
    "# Dysfunctional ball task"
   ]
  },
  {
   "cell_type": "markdown",
   "id": "aa377a62",
   "metadata": {},
   "source": [
    "## Imports"
   ]
  },
  {
   "cell_type": "code",
   "execution_count": null,
   "id": "94601915",
   "metadata": {},
   "outputs": [],
   "source": [
    "import pandas as pd\n",
    "import os\n",
    "from os.path import isfile, join\n",
    "import numpy as np\n",
    "import ast\n",
    "import matplotlib.pyplot as plt\n",
    "import warnings\n",
    "import csv\n",
    "import datetime as dt"
   ]
  },
  {
   "cell_type": "markdown",
   "id": "9c0d9445",
   "metadata": {},
   "source": [
    "### Constants"
   ]
  },
  {
   "cell_type": "code",
   "execution_count": null,
   "id": "278d360a",
   "metadata": {},
   "outputs": [],
   "source": [
    "social = False"
   ]
  },
  {
   "cell_type": "code",
   "execution_count": null,
   "id": "f1824a7a",
   "metadata": {},
   "outputs": [],
   "source": [
    "post_trial_q = [\"AttribQ\", \"ControlQ\", \"StressQ\", \"MotivationQ\"]"
   ]
  },
  {
   "cell_type": "code",
   "execution_count": null,
   "id": "12fccefa",
   "metadata": {},
   "outputs": [],
   "source": [
    "scales = {\n",
    "    \"ius\": [\n",
    "        \"Not at all characteristic of me\",\n",
    "        \"A little characteristic of me\",\n",
    "        \"Somewhat characteristic of me\",\n",
    "        \"Very characteristic of me\",\n",
    "        \"Entirely characteristic of me\"\n",
    "    ],\n",
    "    \"shaps\": [\n",
    "        \"strongly disagree\",\n",
    "        \"disagree\",\n",
    "        \"agree\",\n",
    "        \"strongly agree\"\n",
    "    ],\n",
    "    \"pss\": [\n",
    "        \"Never\",\n",
    "        \"Almost Never\",\n",
    "        \"Sometimes\",\n",
    "        \"Fairly Often\",\n",
    "        \"Very Often\"\n",
    "    ],\n",
    "    \"phq\": [\n",
    "        \"Not at all\",\n",
    "        \"Several days\",\n",
    "        \"More than half the days\",\n",
    "        \"Nearly every day\"\n",
    "    ],\n",
    "    \"gad\": [\n",
    "        \"Not at all\",\n",
    "        \"Several days\",\n",
    "        \"More than half the days\",\n",
    "        \"Nearly every day\"\n",
    "    ],\n",
    "    \"drsp\": [\n",
    "        \"Not at all\",\n",
    "        \"Minimal\",\n",
    "        \"Mild\",\n",
    "        \"Moderate\",\n",
    "        \"Severe\",\n",
    "        \"Extreme\"\n",
    "    ],\n",
    "    \"stress\": [\n",
    "        \"Not at all\",\n",
    "        \"Minimal\",\n",
    "        \"Mild\",\n",
    "        \"Moderate\",\n",
    "        \"Severe\",\n",
    "        \"Extreme\"\n",
    "    ],\n",
    "    \"psst_symptoms\": [\n",
    "        \"Not at all\",\n",
    "        \"Mild\",\n",
    "        \"Moderate\",\n",
    "        \"Severe\"\n",
    "    ],\n",
    "    \"psst_interference\": [\n",
    "        \"Not at all\",\n",
    "        \"Mild\",\n",
    "        \"Moderate\",\n",
    "        \"Severe\"\n",
    "    ],\n",
    "    \"usability\": [\n",
    "        \"strongly disagree\",\n",
    "        \"disagree\",\n",
    "        \"slightly disagree\",\n",
    "        \"neutral\",\n",
    "        \"slightly agree\",\n",
    "        \"agree\",\n",
    "        \"strongly agree\",\n",
    "    ],\n",
    "}"
   ]
  },
  {
   "cell_type": "code",
   "execution_count": null,
   "id": "6cca91c2",
   "metadata": {},
   "outputs": [],
   "source": [
    "reverse = {\n",
    "    \"ius\": False,\n",
    "    \"shaps\": [\n",
    "        False,\n",
    "        True,\n",
    "        False,\n",
    "        True,\n",
    "        True,\n",
    "        False,\n",
    "        True,\n",
    "        False,\n",
    "        True,\n",
    "        False,\n",
    "        False,\n",
    "        False,\n",
    "        False,\n",
    "        False\n",
    "    ],\n",
    "    \"pss\": [\n",
    "        False,\n",
    "        False,\n",
    "        False,\n",
    "        True,\n",
    "        True,\n",
    "        False,\n",
    "        True,\n",
    "        True,\n",
    "        False,\n",
    "        False\n",
    "    ],\n",
    "    \"phq\": False,\n",
    "    \"gad\": False,\n",
    "    \"drsp\": False,\n",
    "    \"stress\": [\n",
    "        False,\n",
    "        True,\n",
    "        False,\n",
    "    ],\n",
    "    \"psst_symptoms\": False,\n",
    "    \"psst_interference\": False,\n",
    "    \"usability\": False,\n",
    "}"
   ]
  },
  {
   "cell_type": "markdown",
   "id": "4804bda4",
   "metadata": {},
   "source": [
    "### Auxiliary functions"
   ]
  },
  {
   "cell_type": "code",
   "execution_count": null,
   "id": "6a8c860b",
   "metadata": {},
   "outputs": [],
   "source": [
    "def custom_formatwarning(message, category, filename, lineno, line=None):\n",
    "    msg = warnings.WarningMessage(message, category, filename, lineno, None, line)\n",
    "    category = msg.category.__name__\n",
    "    return f\"{msg.filename}:{msg.lineno}: {category}: {msg.message}\\n\"\n",
    "\n",
    "warnings.formatwarning = custom_formatwarning"
   ]
  },
  {
   "cell_type": "markdown",
   "id": "c5cc56bb",
   "metadata": {},
   "source": [
    "#### Completion codes"
   ]
  },
  {
   "cell_type": "code",
   "execution_count": null,
   "id": "2849fbb5",
   "metadata": {},
   "outputs": [],
   "source": [
    "def check_cycle_lengths(date_data):\n",
    "    date1_str = date_data[\"date1\"]\n",
    "    date2_str = date_data[\"date2\"]\n",
    "    date3_str = date_data[\"date3\"]\n",
    "    date1 = dt.date(int(date1_str[:4]), int(date1_str[5:7]), int(date1_str[8:]))\n",
    "    date2 = dt.date(int(date2_str[:4]), int(date2_str[5:7]), int(date2_str[8:]))\n",
    "    date3 = dt.date(int(date3_str[:4]), int(date3_str[5:7]), int(date3_str[8:]))\n",
    "    durations = [\n",
    "        np.abs((date1 - date2).days),\n",
    "        np.abs((date2 - date3).days)\n",
    "    ]\n",
    "    return np.mean(durations)\n",
    "        \n"
   ]
  },
  {
   "cell_type": "code",
   "execution_count": null,
   "id": "589f2a08",
   "metadata": {},
   "outputs": [],
   "source": [
    "def check_cycling(question_id, trial_data, name, expe_data, verbose=False):\n",
    "    match question_id:\n",
    "        case 4:\n",
    "            menstrual_cycle = ast.literal_eval(trial_data[\"response\"])[\"menstrual_cycle\"]\n",
    "            if verbose:\n",
    "                print(\"menstrual cycle: \", menstrual_cycle)\n",
    "            return menstrual_cycle == \"Yes\"\n",
    "        case 7:\n",
    "            try:\n",
    "                cycle_length = ast.literal_eval(trial_data[\"response\"])[\"cycle_length\"]\n",
    "            except:\n",
    "                cycle_length = trial_data[\"response\"]\n",
    "            if verbose:\n",
    "                print(\"cycle length: \", cycle_length)\n",
    "            try:\n",
    "                cycle_length = int(cycle_length)\n",
    "                if cycle_length < 10:\n",
    "                    new_cycle_length = check_cycle_lengths(expe_data[\"dates\"])\n",
    "                    warnings.warn_explicit(\"Very small cycle length: \" + str(cycle_length) + \". Calculated cycle length: \" + str(new_cycle_length), Warning, name, trial_data[\"trial_index\"])\n",
    "                    cycle_length = new_cycle_length\n",
    "                return cycle_length >= 21 and cycle_length <= 35\n",
    "            except:\n",
    "                new_cycle_length = check_cycle_lengths(expe_data[\"dates\"])\n",
    "                warnings.warn_explicit(\"Non int cycle length: \" + cycle_length + \". Calculated cycle length: \" + str(new_cycle_length), Warning, name, trial_data[\"trial_index\"])\n",
    "                cycle_length = new_cycle_length\n",
    "                return cycle_length >= 21 and cycle_length <= 35\n",
    "        case 8:\n",
    "            cycle_fluctuation = ast.literal_eval(trial_data[\"response\"])[\"cycle_fluctuation\"]\n",
    "            if verbose:\n",
    "                print(\"cycle fluctuation: \", cycle_fluctuation)\n",
    "            return \"Yes, regular cycle lengths\" in cycle_fluctuation\n",
    "        case 9:\n",
    "            menopause_transition = ast.literal_eval(trial_data[\"response\"])[\"menopause_transition\"]\n",
    "            if verbose:\n",
    "                print(\"menopause transition: \", menopause_transition)\n",
    "            return \"No\" in menopause_transition\n",
    "        case 10:\n",
    "            pregnant_breastfeeding = ast.literal_eval(trial_data[\"response\"])[\"pregnant_breastfeeding\"]\n",
    "            if verbose:\n",
    "                print(\"pregnant breastfeeding: \", pregnant_breastfeeding)\n",
    "            return \"No\" in pregnant_breastfeeding\n",
    "        case 11:\n",
    "            contraceptive_use = ast.literal_eval(trial_data[\"response\"])[\"contraceptive_use\"]\n",
    "            if verbose:\n",
    "                print(\"contraceptive use: \", contraceptive_use)\n",
    "            return \"No\" in contraceptive_use\n",
    "        case 13:\n",
    "            iud_use = ast.literal_eval(trial_data[\"response\"])[\"iud_use\"]\n",
    "            if verbose:\n",
    "                print(\"iud use: \", iud_use)\n",
    "            return \"NO\" in iud_use or \"YES, COPPER IUD\" in iud_use\n",
    "        case 14:\n",
    "            hormone_use = ast.literal_eval(trial_data[\"response\"])[\"hormone_use\"]\n",
    "            if verbose:\n",
    "                print(\"hormone use: \", hormone_use)\n",
    "            return \"NO\"in hormone_use \n",
    "        case 16:\n",
    "            gynecologic_conditions = ast.literal_eval(trial_data[\"response\"])[\"gynecologic_conditions\"]\n",
    "            if verbose:\n",
    "                print(\"gynecologic conditions: \", gynecologic_conditions)\n",
    "            return \"NO\" in gynecologic_conditions\n",
    "    return True"
   ]
  },
  {
   "cell_type": "code",
   "execution_count": null,
   "id": "fb357223",
   "metadata": {},
   "outputs": [],
   "source": [
    "def check_attention(event_type, trial_data):\n",
    "    if event_type == \"phq\":\n",
    "        if ast.literal_eval(trial_data[\"responses\"])[\"Q07\"] != '2':\n",
    "            return 1\n",
    "    if event_type == \"ius\":\n",
    "        if ast.literal_eval(trial_data[\"responses\"])[\"Q08\"] != '0':\n",
    "            return 1\n",
    "    if event_type == \"psst_symptoms\":\n",
    "        response = ast.literal_eval(trial_data[\"responses\"])[\"Q09\"]\n",
    "        if response != '1':\n",
    "            return 1\n",
    "    return 0"
   ]
  },
  {
   "cell_type": "markdown",
   "id": "5169bf0a",
   "metadata": {},
   "source": [
    "#### Plotting"
   ]
  },
  {
   "cell_type": "code",
   "execution_count": null,
   "id": "b1da421c",
   "metadata": {},
   "outputs": [],
   "source": [
    "def plot_quartiles(x, data, label=None, color=0):\n",
    "    median = [np.median(elt) for elt in data]\n",
    "    Q1 = [np.quantile(elt, 0.25) for elt in data]\n",
    "    Q3 = [np.quantile(elt, 0.75) for elt in data]\n",
    "    IQR = [(Q3[i] - Q1[i]) * 2 for i in range(len(Q1))]\n",
    "    Q0 = [max(median[i] - IQR[i], np.min(data[i])) for i in range(len(data))]\n",
    "    Q4 = [min(median[i] + IQR[i], np.max(data[i])) for i in range(len(data))]\n",
    "    plt.fill_between(x, Q0, Q4, alpha=0.2, color=\"C{}\".format(color))\n",
    "    plt.fill_between(x, Q1, Q3, alpha=0.3, color=\"C{}\".format(color))\n",
    "    plt.plot(x, median, label=label, color=\"C{}\".format(color))\n",
    "    "
   ]
  },
  {
   "cell_type": "markdown",
   "id": "863f6a52",
   "metadata": {},
   "source": [
    "##### Social"
   ]
  },
  {
   "cell_type": "code",
   "execution_count": null,
   "id": "47f89d71",
   "metadata": {},
   "outputs": [],
   "source": [
    "def compare_features_social(feature1, features2, data, operation, showfliers=True):\n",
    "    res_social = dict()\n",
    "    res_non_social = dict()\n",
    "    for i in range(len(data)):\n",
    "        for j in range(len(data[i][features2[0]])):\n",
    "            if data[i][feature1][j] not in res_social.keys():\n",
    "                res_social[data[i][feature1][j]] = []\n",
    "                res_non_social[data[i][feature1][j]] = []\n",
    "            if not np.isnan(data[i][features2[0]][j]):\n",
    "                if (data[i][\"social\"][j] == \"social\"):\n",
    "                    res_social[data[i][feature1][j]].append(data[i][features2[0]][j])\n",
    "                    for k in range(1, len(features2)):\n",
    "                        match operation:\n",
    "                            case \"+\":\n",
    "                                res_social[data[i][feature1][j]][-1] += (data[i][features2[k]][j])\n",
    "                            case \"/\":\n",
    "                                res_social[data[i][feature1][j]][-1] /= (data[i][features2[k]][j])\n",
    "                else:\n",
    "                    res_non_social[data[i][feature1][j]].append(data[i][features2[0]][j])\n",
    "                    for k in range(1, len(features2)):\n",
    "                        match operation:\n",
    "                            case \"+\":\n",
    "                                res_non_social[data[i][feature1][j]][-1] += (data[i][features2[k]][j])\n",
    "                            case \"/\":\n",
    "                                res_non_social[data[i][feature1][j]][-1] /= (data[i][features2[k]][j])\n",
    "    sorted_res_social = dict(sorted([elt for elt in res_social.items() if elt[1] != []]))\n",
    "    plt.title(\"Social trials\")\n",
    "    plt.boxplot(sorted_res_social.values(), labels=sorted_res_social.keys(), showfliers=showfliers)\n",
    "    plt.xlabel(feature1)\n",
    "    plt.ylabel(operation.join([feature for feature in features2]))\n",
    "    plt.show()\n",
    "    sorted_res_non_social = dict(sorted([elt for elt in res_non_social.items() if elt[1] != []]))\n",
    "    plt.title(\"Non social trials\")\n",
    "    plt.boxplot(sorted_res_non_social.values(), labels=sorted_res_non_social.keys(), showfliers=showfliers)\n",
    "    plt.xlabel(feature1)\n",
    "    plt.ylabel(operation.join([feature for feature in features2]))\n",
    "    plt.show()\n",
    "    plot_quartiles(sorted_res_social.keys(), list(sorted_res_social.values()), \"social\", color=0)\n",
    "    plot_quartiles(sorted_res_non_social.keys(), list(sorted_res_non_social.values()), \"non social\", color=1)\n",
    "    plt.legend()\n",
    "    plt.show()"
   ]
  },
  {
   "cell_type": "code",
   "execution_count": null,
   "id": "e5700605",
   "metadata": {},
   "outputs": [],
   "source": [
    "def compare_trials_social(features, data, operation, showfliers=True):\n",
    "    res_social = []\n",
    "    res_non_social = []\n",
    "    for i in range(len(data)):\n",
    "        for j in range(len(data[i][features[0]])):\n",
    "            if len(res_social) <= j:\n",
    "                res_social.append([])\n",
    "                res_non_social.append([])\n",
    "            if (not np.isnan(data[i][features[0]][j])):\n",
    "                if (data[i][\"social\"][j] == \"social\"):\n",
    "                    res_social[j].append(data[i][features[0]][j])\n",
    "                    for k in range(1, len(features)):\n",
    "                        match operation:\n",
    "                            case \"+\":\n",
    "                                res_social[j][-1] += data[i][features[k]][j]\n",
    "                            case \"/\":\n",
    "                                res_social[j][-1] /= data[i][features[k]][j]\n",
    "                else:\n",
    "                    res_non_social[j].append(data[i][features[0]][j])\n",
    "                    for k in range(1, len(features)):\n",
    "                        match operation:\n",
    "                            case \"+\":\n",
    "                                res_non_social[j][-1] += data[i][features[k]][j]\n",
    "                            case \"/\":\n",
    "                                res_non_social[j][-1] /= data[i][features[k]][j]\n",
    "    res_social = [elt for elt in res_social if elt != []]\n",
    "    res_non_social = [elt for elt in res_non_social if elt != []]\n",
    "    plt.title(\"Non social trials\")\n",
    "    plt.boxplot(res_non_social, showfliers=showfliers)\n",
    "    plt.xlabel(\"trial number\")\n",
    "    plt.ylabel(operation.join([feature for feature in features]))\n",
    "    plt.show()\n",
    "    plt.title(\"Social trials\")\n",
    "    plt.boxplot(res_social, showfliers=showfliers)\n",
    "    plt.xlabel(\"trial number\")\n",
    "    plt.ylabel(operation.join([feature for feature in features]))\n",
    "    plt.show()\n",
    "    plot_quartiles([i+1 for i in range(len(res_social))], res_social, \"social\", color=0)\n",
    "    plot_quartiles([i+1 for i in range(len(res_non_social))], res_non_social, \"non social\", color=1)\n",
    "    plt.legend()\n",
    "    plt.show()"
   ]
  },
  {
   "cell_type": "markdown",
   "id": "3db509bd",
   "metadata": {},
   "source": [
    "##### Non-social"
   ]
  },
  {
   "cell_type": "code",
   "execution_count": null,
   "id": "09dd5bd3",
   "metadata": {},
   "outputs": [],
   "source": [
    "def compare_features_non_social(feature1, features2, data, operation, showfliers=True, plotquartiles=False):\n",
    "    res = dict()\n",
    "    for i in range(len(data)):\n",
    "        features2_0_data = data[i][features2[0]]\n",
    "        feature1_data = data[i][feature1]\n",
    "        if len(features2_0_data) < len(feature1_data):\n",
    "            feature1_data = feature1_data[(len(feature1_data) - len(features2_0_data)):]\n",
    "        for j in range(len(features2_0_data)):\n",
    "            if feature1_data[j] not in res.keys():\n",
    "                res[feature1_data[j]] = []\n",
    "            if not np.isnan(features2_0_data[j]):\n",
    "                if features2_0_data[j] >= 0:\n",
    "                    res[feature1_data[j]].append(features2_0_data[j])\n",
    "                    for k in range(1, len(features2)):\n",
    "                        match operation:\n",
    "                            case \"+\":\n",
    "                                res[feature1_data[j]][-1] += (data[i][features2[k]][j])\n",
    "                            case \"/\":\n",
    "                                res[feature1_data[j]][-1] /= (data[i][features2[k]][j])\n",
    "    sorted_res = dict(sorted(res.items()))\n",
    "    if plotquartiles:\n",
    "        plot_quartiles(sorted_res.keys(), list(sorted_res.values()))\n",
    "    else:\n",
    "        plt.boxplot(sorted_res.values(), labels=sorted_res.keys(), showfliers=showfliers)\n",
    "    plt.xlabel(feature1)\n",
    "    plt.ylabel(operation.join([feature for feature in features2]))\n",
    "    plt.show()"
   ]
  },
  {
   "cell_type": "code",
   "execution_count": null,
   "id": "d894829e",
   "metadata": {},
   "outputs": [],
   "source": [
    "def compare_trials_non_social(features, data, operation, showfliers):\n",
    "        res = []\n",
    "        for i in range(len(data)):\n",
    "            for j in range(len(data[i][features[0]])):\n",
    "                if len(res) <= j:\n",
    "                    res.append([])\n",
    "                if (not np.isnan(data[i][features[0]][j])):\n",
    "                    res[j].append(data[i][features[0]][j])\n",
    "                    for k in range(1, len(features)):\n",
    "                        match operation:\n",
    "                            case \"+\":\n",
    "                                res[j][-1] += data[i][features[k]][j]\n",
    "                            case \"/\":\n",
    "                                res[j][-1] /= data[i][features[k]][j]\n",
    "\n",
    "        plt.boxplot(res, showfliers=showfliers)\n",
    "        plt.xlabel(\"trial number\")\n",
    "        plt.ylabel(operation.join([feature for feature in features]))\n",
    "        plt.show()"
   ]
  },
  {
   "cell_type": "markdown",
   "id": "43529fa7",
   "metadata": {},
   "source": [
    "##### Global"
   ]
  },
  {
   "cell_type": "code",
   "execution_count": null,
   "id": "ed71b387",
   "metadata": {},
   "outputs": [],
   "source": [
    "def compare_features(feature1, features2, data, operation=\"+\", showfliers=True, plotquartiles=False):\n",
    "    if (social):\n",
    "        compare_features_social(feature1, features2, data, operation, showfliers, plotquartiles)\n",
    "    else:\n",
    "        compare_features_non_social(feature1, features2, data, operation, showfliers, plotquartiles)\n",
    "    "
   ]
  },
  {
   "cell_type": "code",
   "execution_count": null,
   "id": "d65f216c",
   "metadata": {},
   "outputs": [],
   "source": [
    "def compare_trials(features, data, operation=\"+\", showfliers=True):\n",
    "    if (social):\n",
    "        compare_trials_social(features, data, operation, showfliers)\n",
    "    else:\n",
    "        compare_trials_non_social(features, data, operation, showfliers)"
   ]
  },
  {
   "cell_type": "markdown",
   "id": "0b7c9acb",
   "metadata": {},
   "source": [
    "## Extract data"
   ]
  },
  {
   "cell_type": "code",
   "execution_count": null,
   "id": "01eb25ab",
   "metadata": {},
   "outputs": [],
   "source": [
    "path = \"data\"\n",
    "files = []\n",
    "for file in [join(path, f) for f in os.listdir(path) if (isfile(join(path, f)) and f[0] != '.')]:\n",
    "    files.append((file, pd.read_csv(file, quoting=csv.QUOTE_MINIMAL, engine='python')))"
   ]
  },
  {
   "cell_type": "code",
   "execution_count": null,
   "id": "5a3509bf",
   "metadata": {},
   "outputs": [],
   "source": [
    "data = []\n",
    "no_key_presses = set()\n",
    "k = 0\n",
    "count_attention_checks = np.zeros(4)\n",
    "all_no_presses = np.zeros(25)\n",
    "for name, file in files:\n",
    "    # if k>10:\n",
    "    #     break\n",
    "    expe_data = dict()\n",
    "    expe_data[\"PROLIFIC_PID\"] = file[\"prolific_id\"].loc[0]\n",
    "    expe_data[\"id\"] = str(file[\"run_id\"].loc[0])\n",
    "    expe_data[\"attention_check\"] = 0\n",
    "    cycling = True\n",
    "    failed_attention_checks = 0\n",
    "    count_no_presses = 0\n",
    "    expe_data[\"bonus\"] = False\n",
    "    expe_data[\"browser\"] = []\n",
    "    expe_data[\"goal_selected\"] = []\n",
    "    expe_data[\"duration\"] = []\n",
    "    expe_data[\"control_level\"] = []\n",
    "    expe_data[\"real_control_level\"] = []\n",
    "    expe_data[\"questionnaires\"] = dict()\n",
    "    expe_data[\"reaction_time\"] = []\n",
    "    expe_data[\"social\"] = []\n",
    "    expe_data[\"outcome_total\"] = []\n",
    "    expe_data[\"outcome\"] = []\n",
    "    expe_data[\"finished\"] = False\n",
    "    for event_type in post_trial_q:\n",
    "        expe_data[event_type] = []\n",
    "    final_score = 0\n",
    "    counts_keys = [\"num_key_presses\", \"num_perfect\", \"num_errors\", \"num_whileblue\", \"num_whilered\", \"num_randdir\", \"num_good_moves\"]\n",
    "    for key in counts_keys:\n",
    "        expe_data[key] = []\n",
    "    for i in range(len(file)):\n",
    "        trial_data = file.loc[i]\n",
    "        try:\n",
    "            question_id = trial_data[\"question_id\"]\n",
    "        except KeyError:\n",
    "            pass\n",
    "        trial_type = trial_data[\"trial_type\"]\n",
    "        try:\n",
    "            event_type = trial_data[\"eventType\"]\n",
    "        except KeyError:\n",
    "            pass\n",
    "        if trial_type == \"ctl-task-cpt\":\n",
    "            if social:\n",
    "                expe_data[\"social\"].append(trial_data[\"multiplayer\"])\n",
    "            goal_selected = trial_data[\"goal_selected\"]\n",
    "            if trial_data[\"goal_choice_rt\"] < 4000 and trial_data[\"goal_choice_rt\"] > 0:\n",
    "                expe_data[\"goal_selected\"].append(int(goal_selected))\n",
    "            else:\n",
    "                if goal_selected == 1:\n",
    "                    expe_data[\"goal_selected\"].append(\"timeout1\")\n",
    "                elif goal_selected == 2:\n",
    "                    expe_data[\"goal_selected\"].append(\"timeout2\")\n",
    "                else:\n",
    "                    expe_data[\"goal_selected\"].append(goal_selected)\n",
    "                    warnings.warn_explicit(\"Goal is \" + str(goal_selected), Warning, name, file.loc[i][\"trial_index\"])\n",
    "            final_score = trial_data[\"participant_final_score\"]\n",
    "            expe_data[\"duration\"].append(trial_data[\"phase3_start_time\"])\n",
    "            expe_data[\"browser\"].append(trial_data[\"browser\"])\n",
    "            expe_data[\"control_level\"].append(trial_data[\"control_level\"])\n",
    "            expe_data[\"outcome_total\"].append(trial_data[\"outcome_total\"])\n",
    "            expe_data[\"outcome\"].append(trial_data[\"outcome\"])\n",
    "            try:\n",
    "                for key in counts_keys:\n",
    "                    expe_data[key].append(ast.literal_eval(trial_data[\"counts\"])[key])\n",
    "            except ValueError:\n",
    "                for key in counts_keys:\n",
    "                    expe_data[key].append(np.nan)\n",
    "                warnings.warn_explicit(\"NaN value in counts ignored\", Warning, name, trial_data[\"trial_index\"])\n",
    "            except KeyError:\n",
    "                warnings.warn_explicit(\"Key error: \" + key, Warning, name, trial_data[\"trial_index\"])\n",
    "            sum_rt = 0\n",
    "            num_rt = 0\n",
    "            try:\n",
    "                key_presses = ast.literal_eval(trial_data[\"key_presses\"])\n",
    "                for j in range(len(key_presses)):\n",
    "                    if key_presses[j] in [\"smooth\", \"error\", \"oops\", \"while_blue\", \"while_red\"]:\n",
    "                        num_rt += 1\n",
    "                        sum_rt += float(key_presses[j - 1])\n",
    "                if num_rt != 0:\n",
    "                    avg_rt = sum_rt / num_rt\n",
    "                    expe_data[\"reaction_time\"].append(avg_rt)\n",
    "                else:\n",
    "                    expe_data[\"reaction_time\"].append(np.nan)\n",
    "                    no_key_presses.add(expe_data[\"id\"])\n",
    "                    count_no_presses += 1\n",
    "                    # warnings.warn_explicit(\"No key presses during the trial\", Warning, name, trial_data[\"trial_index\"])\n",
    "            except ValueError:\n",
    "                expe_data[\"reaction_time\"].append(np.nan)\n",
    "                warnings.warn_explicit(\"NaN value in reaction time ignored\", Warning, name, trial_data[\"trial_index\"])\n",
    "            if expe_data[\"num_perfect\"][-1] + expe_data[\"num_randdir\"][-1] != 0:\n",
    "                expe_data[\"real_control_level\"].append(round(expe_data[\"num_perfect\"][-1] / (expe_data[\"num_perfect\"][-1] + expe_data[\"num_randdir\"][-1]), 1))\n",
    "            else:\n",
    "                expe_data[\"real_control_level\"].append(-0.1)\n",
    "        if trial_type == \"survey-template\":\n",
    "            event_type = file.loc[i][\"eventType\"]\n",
    "            expe_data[\"questionnaires\"][event_type] = ast.literal_eval(file.loc[i][\"responses\"])\n",
    "        if trial_type == \"html-slider-response\":\n",
    "            event_type = trial_data[\"eventType\"]\n",
    "            if event_type in post_trial_q:\n",
    "                try:\n",
    "                    expe_data[event_type].append(int(file.loc[i][\"response\"]))\n",
    "                except ValueError:\n",
    "                    expe_data[event_type].append(np.nan)\n",
    "                    warnings.warn_explicit(\"NaN value in \" + event_type + \" ignored\", Warning, name, file.loc[i][\"trial_index\"])\n",
    "        if trial_type == \"html-keyboard-response\":\n",
    "            expe_data[\"finished\"] = True\n",
    "        if cycling:\n",
    "            cycling = check_cycling(question_id, trial_data, name, expe_data)\n",
    "        if trial_type == \"survey-text\":\n",
    "            if \"date\" in trial_data[\"response\"]:\n",
    "                expe_data[\"dates\"] = ast.literal_eval(trial_data[\"response\"])\n",
    "        \n",
    "        failed_attention_checks += check_attention(event_type, trial_data)\n",
    "    expe_data[\"final_score\"] = final_score\n",
    "    if final_score > (6 * 11):\n",
    "        expe_data[\"bonus\"] = True\n",
    "    expe_data[\"failed_attention_checks\"] = failed_attention_checks\n",
    "    expe_data[\"cycling\"] = cycling\n",
    "    expe_data[\"no_press_trials\"] = count_no_presses\n",
    "    count_attention_checks[failed_attention_checks] += 1\n",
    "    all_no_presses[count_no_presses] += 1\n",
    "    k += 1\n",
    "    if expe_data[\"finished\"]:\n",
    "        data.append(expe_data)\n",
    "print(count_attention_checks)\n",
    "print(all_no_presses)\n"
   ]
  },
  {
   "cell_type": "markdown",
   "id": "ccdbc9ab",
   "metadata": {},
   "source": [
    "## Figures"
   ]
  },
  {
   "cell_type": "markdown",
   "id": "71a7933c",
   "metadata": {},
   "source": [
    "### Attention checks"
   ]
  },
  {
   "cell_type": "code",
   "execution_count": null,
   "id": "b8a46fa0",
   "metadata": {},
   "outputs": [],
   "source": [
    "plt.bar(range(4), count_attention_checks)\n",
    "plt.xlabel(\"Number of failed attention checks\")\n",
    "plt.ylabel(\"Number of participants\")\n",
    "plt.show()"
   ]
  },
  {
   "cell_type": "code",
   "execution_count": null,
   "id": "7ddf7af9",
   "metadata": {},
   "outputs": [],
   "source": [
    "plt.bar(range(25), all_no_presses)\n",
    "plt.xlabel(\"Number of trials with no key presses\")\n",
    "plt.ylabel(\"Number of participants\")\n",
    "plt.show()"
   ]
  },
  {
   "cell_type": "markdown",
   "id": "92e86ecd",
   "metadata": {},
   "source": [
    "### Key presses"
   ]
  },
  {
   "cell_type": "code",
   "execution_count": null,
   "id": "95896a15",
   "metadata": {},
   "outputs": [],
   "source": [
    "feature = 'num_key_presses'\n",
    "for expe_data in data:\n",
    "    plt.plot([i for i in range(len(expe_data[feature]))], expe_data[feature])\n",
    "    plt.xlabel(\"trial number\")\n",
    "    plt.ylabel(\"number of key presses\")"
   ]
  },
  {
   "cell_type": "code",
   "execution_count": null,
   "id": "c02e2b56",
   "metadata": {},
   "outputs": [],
   "source": [
    "compare_trials([\"num_key_presses\"], data, showfliers=False)"
   ]
  },
  {
   "cell_type": "code",
   "execution_count": null,
   "id": "0e115aed",
   "metadata": {},
   "outputs": [],
   "source": [
    "compare_features(\"control_level\", [\"num_key_presses\"], data, showfliers=False)"
   ]
  },
  {
   "cell_type": "code",
   "execution_count": null,
   "id": "31348cd9",
   "metadata": {},
   "outputs": [],
   "source": [
    "res = []\n",
    "for i in range(len(data)):\n",
    "    num_randdir = data[i][\"num_randdir\"]\n",
    "    for j in range(len(num_randdir)):\n",
    "        if len(res) <= j:\n",
    "            res.append([])\n",
    "        if (not np.isnan(num_randdir[j])):\n",
    "            total_whilegreen = num_randdir[j] + data[i][\"num_perfect\"][j]\n",
    "            if total_whilegreen != 0:\n",
    "                res[j].append(num_randdir[j] / total_whilegreen)\n",
    "\n",
    "plt.boxplot(res)\n",
    "plt.xlabel(\"trial number\")\n",
    "plt.ylabel(\"num_oops / num_whilegreen\")\n",
    "plt.show()"
   ]
  },
  {
   "cell_type": "code",
   "execution_count": null,
   "id": "597bd1dd",
   "metadata": {},
   "outputs": [],
   "source": [
    "res = dict()\n",
    "for i in range(len(data)):\n",
    "    num_randdir = data[i][\"num_randdir\"]\n",
    "    num_perfect = data[i][\"num_perfect\"]\n",
    "    for j in range(len(data[i][\"num_randdir\"])):\n",
    "        control_level = data[i][\"control_level\"]\n",
    "        if control_level[j] not in res.keys():\n",
    "            res[control_level[j]] = []\n",
    "        if not np.isnan(num_randdir[j]):\n",
    "            total_whilegreen = num_randdir[j] + num_perfect[j]\n",
    "            if total_whilegreen != 0:\n",
    "                res[control_level[j]].append(num_perfect[j] / total_whilegreen)\n",
    "sorted_res = dict(sorted(res.items()))\n",
    "plt.boxplot(sorted_res.values(), labels=sorted_res.keys())\n",
    "plt.xlabel(\"control_level\")\n",
    "plt.ylabel(\"num_perfect / num_whilegreen\")\n",
    "plt.show()"
   ]
  },
  {
   "cell_type": "markdown",
   "id": "062304f9",
   "metadata": {},
   "source": [
    "### Errors"
   ]
  },
  {
   "cell_type": "code",
   "execution_count": null,
   "id": "13be0b1f",
   "metadata": {},
   "outputs": [],
   "source": [
    "feature1 = 'num_whileblue'\n",
    "feature2 = 'num_errors'\n",
    "num_images = min(len(data), 4)\n",
    "for i in range(num_images):\n",
    "    plt.subplot(2, 2, i + 1)\n",
    "    expe_data = data[i]\n",
    "    plt.bar(\n",
    "        [i for i in range(len(expe_data[feature1]))], \n",
    "        expe_data[feature1], \n",
    "        label=feature1,\n",
    "    )\n",
    "    plt.bar(\n",
    "        [i for i in range(len(expe_data[feature2]))], \n",
    "        expe_data[feature2],\n",
    "        label=feature2,\n",
    "        bottom=expe_data[feature1]\n",
    "    )\n",
    "    plt.xlabel(\"trial number\")\n",
    "    plt.ylabel(\"number of errors\")\n",
    "    plt.legend()\n",
    "    plt.tight_layout()\n"
   ]
  },
  {
   "cell_type": "code",
   "execution_count": null,
   "id": "ff7bee3c",
   "metadata": {},
   "outputs": [],
   "source": [
    "compare_trials([\"num_errors\", \"num_whileblue\"], data)"
   ]
  },
  {
   "cell_type": "code",
   "execution_count": null,
   "id": "c2e0a673",
   "metadata": {},
   "outputs": [],
   "source": [
    "compare_features(\"control_level\", [\"num_whileblue\"], data)"
   ]
  },
  {
   "cell_type": "markdown",
   "id": "22c11c5a",
   "metadata": {},
   "source": [
    "### Duration"
   ]
  },
  {
   "cell_type": "code",
   "execution_count": null,
   "id": "3ba66471",
   "metadata": {},
   "outputs": [],
   "source": [
    "feature = 'duration'\n",
    "for expe_data in data:\n",
    "    plt.plot([i for i in range(len(expe_data[feature]))], expe_data[feature])\n",
    "    plt.xlabel(\"trial number\")\n",
    "    plt.ylabel(\"number of key presses\")"
   ]
  },
  {
   "cell_type": "code",
   "execution_count": null,
   "id": "2af06128",
   "metadata": {},
   "outputs": [],
   "source": [
    "compare_trials([\"duration\"], data, showfliers=False)"
   ]
  },
  {
   "cell_type": "code",
   "execution_count": null,
   "id": "f467605e",
   "metadata": {},
   "outputs": [],
   "source": [
    "compare_features(\"control_level\", [\"duration\"], data, showfliers=False)"
   ]
  },
  {
   "cell_type": "markdown",
   "id": "967d820d",
   "metadata": {},
   "source": [
    "### Reaction times"
   ]
  },
  {
   "cell_type": "code",
   "execution_count": null,
   "id": "9262bee8",
   "metadata": {},
   "outputs": [],
   "source": [
    "compare_trials([\"reaction_time\"], data, showfliers=False)"
   ]
  },
  {
   "cell_type": "code",
   "execution_count": null,
   "id": "30f1a33c",
   "metadata": {},
   "outputs": [],
   "source": [
    "compare_features(\"browser\", [\"reaction_time\"], data, showfliers=False)"
   ]
  },
  {
   "cell_type": "code",
   "execution_count": null,
   "id": "b2d4ccbb",
   "metadata": {},
   "outputs": [],
   "source": [
    "compare_features(\"control_level\", [\"reaction_time\"], data, showfliers=False)"
   ]
  },
  {
   "cell_type": "code",
   "execution_count": null,
   "id": "f4e88a00",
   "metadata": {},
   "outputs": [],
   "source": [
    "compare_features(\"num_whileblue\", [\"reaction_time\"], data, showfliers=False)"
   ]
  },
  {
   "cell_type": "markdown",
   "id": "8eb16692",
   "metadata": {},
   "source": [
    "### Outcome"
   ]
  },
  {
   "cell_type": "code",
   "execution_count": null,
   "id": "b4887890",
   "metadata": {},
   "outputs": [],
   "source": [
    "compare_trials([\"outcome_total\"], data, showfliers=False)"
   ]
  },
  {
   "cell_type": "code",
   "execution_count": null,
   "id": "3ee75d32",
   "metadata": {},
   "outputs": [],
   "source": [
    "compare_features(\"control_level\", [\"outcome_total\"], data, showfliers=False)"
   ]
  },
  {
   "cell_type": "markdown",
   "id": "b4f3711e",
   "metadata": {},
   "source": [
    "### General questionnaires"
   ]
  },
  {
   "cell_type": "code",
   "execution_count": null,
   "id": "1126c643",
   "metadata": {},
   "outputs": [],
   "source": [
    "feature = \"questionnaires\"\n",
    "res_social = dict()\n",
    "for i in range(len(data)): # i represents the participant\n",
    "    for key in data[i][feature].keys(): # key represents the questionnaire\n",
    "        if key not in res_social.keys():\n",
    "            res_social[key] = dict()\n",
    "        for j in range(len(data[i][feature][key].keys())): # j represents the question\n",
    "            question = list(data[i][feature][key].keys())[j]\n",
    "            real_value = int(data[i][feature][key][question])\n",
    "            if key in [\"psst_symptoms\", \"psst_interference\", \"phq\", \"gad\"]:\n",
    "                real_value -= 1\n",
    "            if reverse[key] and reverse[key][j]:\n",
    "                real_value = len(scales[key]) - 1 - real_value\n",
    "            if j not in list(res_social[key].keys()):\n",
    "                res_social[key][j] = dict()\n",
    "            if real_value not in res_social[key][j].keys():\n",
    "                res_social[key][j][real_value] = 0\n",
    "            res_social[key][j][real_value] += 1\n",
    "\n",
    "for key in res_social.keys(): # key represents the questionnaire\n",
    "    bottom = [0 for i in res_social[key].keys()]\n",
    "    for ans in range(len(scales[key])): # ans represents the answer\n",
    "        results_social = []\n",
    "        for question in res_social[key].keys():\n",
    "            try:\n",
    "                results_social.append(res_social[key][question][ans])\n",
    "            except:\n",
    "                results_social.append(0)\n",
    "        plt.bar(\n",
    "            res_social[key].keys(), \n",
    "            results_social,\n",
    "            label=scales[key][ans],\n",
    "            bottom=bottom,\n",
    "            color=plt.cm.jet((ans + .5) / len(scales[key]))\n",
    "        )\n",
    "        bottom = [results_social[i] + bottom[i] for i in range(len(results_social))]\n",
    "        plt.legend()\n",
    "        plt.title(key)\n",
    "    plt.tight_layout()\n",
    "    plt.show()\n"
   ]
  },
  {
   "cell_type": "markdown",
   "id": "29bb77a4",
   "metadata": {},
   "source": [
    "### Post-trial questionnaires"
   ]
  },
  {
   "cell_type": "code",
   "execution_count": null,
   "id": "b59c8195",
   "metadata": {},
   "outputs": [],
   "source": [
    "for qtype in post_trial_q:\n",
    "    compare_trials([qtype], data)\n",
    "compare_trials([\"outcome\"], data)"
   ]
  },
  {
   "cell_type": "code",
   "execution_count": null,
   "id": "92a8686a",
   "metadata": {},
   "outputs": [],
   "source": [
    "for qtype in post_trial_q:\n",
    "    compare_features(\"real_control_level\", [qtype], data, plotquartiles=True)"
   ]
  },
  {
   "cell_type": "markdown",
   "id": "829af2da",
   "metadata": {},
   "source": [
    "### Goals"
   ]
  },
  {
   "cell_type": "code",
   "execution_count": null,
   "id": "b46f58ef",
   "metadata": {},
   "outputs": [],
   "source": [
    "if(social):\n",
    "    results_social = {'1': [], '2': [], 'timeout1': [], 'timeout2': []}\n",
    "    results_non_social = {'1': [], '2': [], 'timeout1': [], 'timeout2': []}\n",
    "    for expe_data in data:\n",
    "        for trial_index in range(len(expe_data[\"social\"])):\n",
    "            if (expe_data[\"social\"][trial_index] == \"social\"):\n",
    "                if trial_index - len(results_non_social[\"1\"]) >= len(results_social['1']):\n",
    "                    results_social[\"1\"].append(0)\n",
    "                    results_social[\"2\"].append(0)\n",
    "                    results_social[\"timeout1\"].append(0)\n",
    "                    results_social[\"timeout2\"].append(0)\n",
    "                results_social[str(expe_data[\"goal_selected\"][trial_index])][trial_index - len(results_non_social[\"1\"])] += 1\n",
    "            else:\n",
    "                if trial_index - len(results_social[\"1\"]) >= len(results_non_social['1']):\n",
    "                    results_non_social[\"1\"].append(0)\n",
    "                    results_non_social[\"2\"].append(0)\n",
    "                    results_non_social[\"timeout1\"].append(0)\n",
    "                    results_non_social[\"timeout2\"].append(0)\n",
    "                results_non_social[str(expe_data[\"goal_selected\"][trial_index])][trial_index - len(results_social[\"1\"])] += 1\n",
    "    bottom = np.zeros(len(results_social[\"1\"]))\n",
    "    for key in results_social.keys():\n",
    "        plt.bar(range(len(results_social[key])), results_social[key], bottom=bottom, label=key)\n",
    "        bottom = bottom + results_social[key]\n",
    "    plt.xlabel(\"trial\")\n",
    "    plt.legend()\n",
    "    plt.ylabel(\"goal selected\")\n",
    "    plt.show()\n",
    "    bottom = np.zeros(len(results_non_social[\"1\"]))\n",
    "    for key in results_non_social.keys():\n",
    "        plt.bar(range(len(results_non_social[key])), results_non_social[key], bottom=bottom, label=key)\n",
    "        bottom = bottom + results_non_social[key]\n",
    "    plt.xlabel(\"trial\")\n",
    "    plt.legend()\n",
    "    plt.ylabel(\"goal selected\")\n",
    "    plt.show()\n",
    "else:\n",
    "    results_social = {'1': [], '2': [], 'timeout1': [], \"timeout2\": []}\n",
    "    for expe_data in data:\n",
    "        for trial_index in range(len(expe_data[\"goal_selected\"])):\n",
    "            if trial_index >= len(results_social['1']):\n",
    "                results_social[\"1\"].append(0)\n",
    "                results_social[\"2\"].append(0)\n",
    "                results_social[\"timeout1\"].append(0)\n",
    "                results_social[\"timeout2\"].append(0)\n",
    "            if str(expe_data[\"goal_selected\"][trial_index]) in results_social.keys():\n",
    "                results_social[str(expe_data[\"goal_selected\"][trial_index])][trial_index] += 1\n",
    "    bottom = np.zeros(len(results_social[\"1\"]))\n",
    "    for key in results_social.keys():\n",
    "        plt.bar(range(len(results_social[key])), results_social[key], bottom=bottom, label=key)\n",
    "        bottom = bottom + results_social[key]\n",
    "    plt.xlabel(\"trial\")\n",
    "    plt.legend()\n",
    "    plt.ylabel(\"goal selected\")\n",
    "    plt.show()"
   ]
  },
  {
   "cell_type": "code",
   "execution_count": null,
   "id": "cca7bbe1",
   "metadata": {},
   "outputs": [],
   "source": [
    "num_goal1 = np.zeros(len(data))\n",
    "num_goal2 = np.zeros(len(data))\n",
    "num_timeout1 = np.zeros(len(data))\n",
    "num_timeout2 = np.zeros(len(data))\n",
    "for i in range(len(data)):\n",
    "    goals = data[i][\"goal_selected\"]\n",
    "    for goal in goals:\n",
    "        if goal == 1:\n",
    "            num_goal1[i] += 1\n",
    "        elif goal == 2:\n",
    "            num_goal2[i] += 1\n",
    "        elif goal == \"timeout1\":\n",
    "            num_timeout1[i] += 1\n",
    "        elif goal == \"timeout2\":\n",
    "            num_timeout2[i] += 1\n",
    "plt.boxplot([num_goal1, num_goal2, num_timeout1, num_timeout2], labels=[\"goal 1\", \"goal 2\", \"timeout1\", \"timeout2\"])\n",
    "plt.xlabel(\"goal selected\")\n",
    "plt.ylabel(\"number of trials (for each participant)\")\n",
    "plt.show()"
   ]
  },
  {
   "cell_type": "code",
   "execution_count": null,
   "id": "10c0b13b",
   "metadata": {},
   "outputs": [],
   "source": [
    "num_goal1_won = np.zeros(len(data))\n",
    "num_goal2_won = np.zeros(len(data))\n",
    "num_timeout1_won = np.zeros(len(data))\n",
    "num_timeout2_won = np.zeros(len(data))\n",
    "num_won = np.zeros(len(data))\n",
    "num = np.zeros(len(data))\n",
    "for i in range(len(data)):\n",
    "    goals = data[i][\"goal_selected\"]\n",
    "    outcomes = data[i][\"outcome\"]\n",
    "    for j in range(len(goals)):\n",
    "        goal = goals[j]\n",
    "        num[i] += 1\n",
    "        if outcomes[j] >= 0:\n",
    "            num_won[i] += 1\n",
    "            if goal == 1:\n",
    "                num_goal1_won[i] += 1\n",
    "            elif goal == 2:\n",
    "                num_goal2_won[i] += 1\n",
    "            elif goal == \"timeout1\":\n",
    "                num_timeout1_won[i] += 1\n",
    "            elif goal == \"timeout2\":\n",
    "                num_timeout2_won[i] += 1\n",
    "\n",
    "goal1_prop = np.divide(num_goal1_won, num_goal1, where=num_goal1!=0, out=np.zeros(len(num_goal1), dtype=float))\n",
    "goal2_prop = np.divide(num_goal2_won, num_goal2, where=num_goal2!=0, out=np.zeros(len(num_goal2), dtype=float))\n",
    "timeout1_prop = np.divide(num_timeout1_won, num_timeout1, where=num_timeout1!=0, out=np.zeros(len(num_timeout1), dtype=float))\n",
    "timeout2_prop = np.divide(num_timeout2_won, num_timeout2, where=num_timeout2!=0, out=np.zeros(len(num_timeout2), dtype=float))\n",
    "won_prop = np.divide(num_won, num, where=num!=0, out=np.zeros(len(num), dtype=float))\n",
    "\n",
    "plt.boxplot(\n",
    "    [\n",
    "        goal1_prop[num_goal1 != 0], \n",
    "        goal2_prop[num_goal2 != 0], \n",
    "        timeout1_prop[num_timeout1 != 0],\n",
    "        timeout2_prop[num_timeout2 != 0],\n",
    "        won_prop[num != 0]\n",
    "    ], \n",
    "    labels=[\"goal 1\", \"goal 2\", \"timeout1\", \"timeout2\", \"total\"],\n",
    ")\n",
    "plt.xlabel(\"goal selected\")\n",
    "plt.ylabel(\"proportion won\")\n",
    "plt.show()"
   ]
  },
  {
   "cell_type": "code",
   "execution_count": null,
   "id": "feff9f26",
   "metadata": {},
   "outputs": [],
   "source": [
    "num_goal1_lost = np.zeros(len(data))\n",
    "num_goal2_lost = np.zeros(len(data))\n",
    "num_timeout1_lost = np.zeros(len(data))\n",
    "num_timeout2_lost = np.zeros(len(data))\n",
    "for i in range(len(data)):\n",
    "    goals = data[i][\"goal_selected\"]\n",
    "    outcomes = data[i][\"outcome\"]\n",
    "    for j in range(len(goals)):\n",
    "        goal = goals[j]\n",
    "        if outcomes[j] < 0:\n",
    "            if goal == 1:\n",
    "                num_goal1_lost[i] += 1\n",
    "            elif goal == 2:\n",
    "                num_goal2_lost[i] += 1\n",
    "            elif goal == \"timeout1\":\n",
    "                num_timeout1_lost[i] += 1\n",
    "            elif goal == \"timeout2\":\n",
    "                num_timeout2_lost[i] += 1\n",
    "\n",
    "goal1_prop = np.divide(num_goal1_lost, num_goal1, where=num_goal1!=0, out=np.zeros(len(num_goal1), dtype=float))\n",
    "goal2_prop = np.divide(num_goal2_lost, num_goal2, where=num_goal2!=0, out=np.zeros(len(num_goal2), dtype=float))\n",
    "timeout1_prop = np.divide(num_timeout1_lost, num_timeout1, where=num_timeout1!=0, out=np.zeros(len(num_timeout1), dtype=float))\n",
    "timeout2_prop = np.divide(num_timeout2_lost, num_timeout2, where=num_timeout2!=0, out=np.zeros(len(num_timeout2), dtype=float))\n",
    "\n",
    "plt.boxplot(\n",
    "    [\n",
    "        goal1_prop[num_goal1 != 0], \n",
    "        goal2_prop[num_goal2 != 0], \n",
    "        timeout1_prop[num_timeout1 != 0],\n",
    "        timeout2_prop[num_timeout2 != 0],\n",
    "    ], \n",
    "    labels=[\"goal 1\", \"goal 2\", \"timeout1\", \"timeout2\"],\n",
    ")\n",
    "plt.xlabel(\"goal selected\")\n",
    "plt.ylabel(\"proportion lost\")\n",
    "plt.show()"
   ]
  },
  {
   "cell_type": "code",
   "execution_count": null,
   "id": "09b51092",
   "metadata": {},
   "outputs": [],
   "source": [
    "res = dict()\n",
    "for i in range(len(data)):\n",
    "    if len(data[i][\"browser\"]) > 0:\n",
    "        browser = data[i][\"browser\"][0]\n",
    "    if browser not in list(res.keys()):\n",
    "        res[browser] = 0\n",
    "    goals = data[i][\"goal_selected\"]\n",
    "    for goal in goals:\n",
    "        if goal not in [1, 2, \"timeout1\", \"timeout2\"]:\n",
    "            res[browser] += 1\n",
    "plt.bar(res.keys(), res.values())\n",
    "plt.show()"
   ]
  },
  {
   "cell_type": "markdown",
   "id": "08251320",
   "metadata": {},
   "source": [
    "### Groups"
   ]
  },
  {
   "cell_type": "code",
   "execution_count": null,
   "id": "70f78c59",
   "metadata": {},
   "outputs": [],
   "source": [
    "keys = [\"PROLIFIC_PID\", 'id', \"cycling\", \"failed_attention_checks\", \"no_press_trials\", \"bonus\", \"finished\"]\n",
    "export = pd.DataFrame(columns=keys)\n",
    "for expe_data in data:\n",
    "    export.loc[len(export)] = [expe_data[key] for key in keys]\n",
    "export = export.dropna()"
   ]
  },
  {
   "cell_type": "code",
   "execution_count": null,
   "id": "457479d8",
   "metadata": {},
   "outputs": [],
   "source": [
    "bonus_cycle = export[export[\"finished\"]][export[\"bonus\"]][export[\"cycling\"]][export[\"failed_attention_checks\"] < 2]"
   ]
  },
  {
   "cell_type": "code",
   "execution_count": null,
   "id": "88b60742",
   "metadata": {},
   "outputs": [],
   "source": [
    "bonus_no_cycle = export[export[\"finished\"]][export[\"bonus\"]][export[\"cycling\"] == False][export[\"failed_attention_checks\"] < 2]"
   ]
  },
  {
   "cell_type": "code",
   "execution_count": null,
   "id": "fe73d98b",
   "metadata": {},
   "outputs": [],
   "source": [
    "no_bonus_cycle = export[export[\"finished\"]][export[\"bonus\"] == False][export[\"cycling\"]][export[\"failed_attention_checks\"] < 2]"
   ]
  },
  {
   "cell_type": "code",
   "execution_count": null,
   "id": "be28faa5",
   "metadata": {},
   "outputs": [],
   "source": [
    "no_bonus_no_cycle = export[export[\"finished\"]][export[\"bonus\"] == False][export[\"cycling\"] == False][export[\"failed_attention_checks\"] < 2]"
   ]
  },
  {
   "cell_type": "code",
   "execution_count": null,
   "id": "6da77942",
   "metadata": {},
   "outputs": [],
   "source": [
    "attention_fail = export[export[\"finished\"]][export[\"failed_attention_checks\"] == 1]"
   ]
  },
  {
   "cell_type": "code",
   "execution_count": null,
   "id": "ede5d9bc",
   "metadata": {},
   "outputs": [],
   "source": [
    "print(len(bonus_cycle) + len(no_bonus_cycle))\n",
    "plt.bar([\"cycle bonus\", \"cycle no bonus\", \"no cycle no bonus\", \"no cycle bonus\"], [len(bonus_cycle), len(no_bonus_cycle), len(no_bonus_no_cycle), len(bonus_no_cycle)])\n",
    "plt.tight_layout()\n",
    "plt.show()"
   ]
  },
  {
   "cell_type": "markdown",
   "id": "f6edcccf",
   "metadata": {},
   "source": [
    "## Export"
   ]
  },
  {
   "cell_type": "markdown",
   "id": "644b2d39",
   "metadata": {},
   "source": [
    "### Completion codes"
   ]
  },
  {
   "cell_type": "code",
   "execution_count": null,
   "id": "efd67445",
   "metadata": {},
   "outputs": [],
   "source": [
    "file = pd.read_csv(\"../../data/data_tests/demographic.csv\", quoting=csv.QUOTE_MINIMAL, engine='python')\n",
    "print(\"In the file but not in my data:\")\n",
    "for i in range(len(file)):\n",
    "    if file.loc[i][\"Completion code\"] == \"CUYYH5VH\":\n",
    "        id = file.loc[i][\"Participant id\"]\n",
    "        if len(no_bonus_no_cycle[no_bonus_no_cycle[\"PROLIFIC_PID\"] == id]) == 0:\n",
    "            print(id)\n",
    "print(\"in my data but not in the file: \")\n",
    "for id in range(len(no_bonus_no_cycle)):\n",
    "    pid = no_bonus_no_cycle.iloc[id][\"PROLIFIC_PID\"]\n",
    "    if pid not in list(file[file[\"Completion code\"] == \"CUYYH5VH\"][\"Participant id\"]):\n",
    "        print(pid)"
   ]
  },
  {
   "cell_type": "code",
   "execution_count": null,
   "id": "e0bd500b",
   "metadata": {},
   "outputs": [],
   "source": [
    "print(\"In the file but not in my data:\")\n",
    "for i in range(len(file)):\n",
    "    if file.loc[i][\"Completion code\"] == \"CHSMEF3Q\":\n",
    "        id = file.loc[i][\"Participant id\"]\n",
    "        if len(bonus_no_cycle[bonus_no_cycle[\"PROLIFIC_PID\"] == id]) == 0:\n",
    "            print(id)\n",
    "print(\"in my data but not in the file: \")\n",
    "for id in range(len(bonus_no_cycle)):\n",
    "    pid = bonus_no_cycle.iloc[id][\"PROLIFIC_PID\"]\n",
    "    if pid not in list(file[file[\"Completion code\"] == \"CHSMEF3Q\"][\"Participant id\"]):\n",
    "        print(pid)"
   ]
  },
  {
   "cell_type": "code",
   "execution_count": null,
   "id": "27f0da3e",
   "metadata": {},
   "outputs": [],
   "source": [
    "print(\"In the file but not in my data:\")\n",
    "for i in range(len(file)):\n",
    "    if file.loc[i][\"Completion code\"] == \"C88V7W7C\":\n",
    "        id = file.loc[i][\"Participant id\"]\n",
    "        if len(no_bonus_cycle[no_bonus_cycle[\"PROLIFIC_PID\"] == id]) == 0:\n",
    "            print(id)\n",
    "print(\"in my data but not in the file: \")\n",
    "for id in range(len(no_bonus_cycle)):\n",
    "    pid = no_bonus_cycle.iloc[id][\"PROLIFIC_PID\"]\n",
    "    if pid not in list(file[file[\"Completion code\"] == \"C88V7W7C\"][\"Participant id\"]):\n",
    "        print(pid)"
   ]
  },
  {
   "cell_type": "code",
   "execution_count": null,
   "id": "bccdb48b",
   "metadata": {},
   "outputs": [],
   "source": [
    "print(\"In the file but not in my data:\")\n",
    "for i in range(len(file)):\n",
    "    if file.loc[i][\"Completion code\"] == \"C1N4G4YB\":\n",
    "        id = file.loc[i][\"Participant id\"]\n",
    "        if len(bonus_cycle[bonus_cycle[\"PROLIFIC_PID\"] == id]) == 0:\n",
    "            print(id)\n",
    "print(\"in my data but not in the file: \")\n",
    "for id in range(len(bonus_cycle)):\n",
    "    pid = bonus_cycle.iloc[id][\"PROLIFIC_PID\"]\n",
    "    if pid not in list(file[file[\"Completion code\"] == \"C1N4G4YB\"][\"Participant id\"]):\n",
    "        print(pid)"
   ]
  },
  {
   "cell_type": "code",
   "execution_count": null,
   "id": "ba006889",
   "metadata": {},
   "outputs": [],
   "source": [
    "print(\"In the file but not in my data:\")\n",
    "for i in range(len(file)):\n",
    "    if file.loc[i][\"Completion code\"] == \"C10I36ND\":\n",
    "        id = file.loc[i][\"Participant id\"]\n",
    "        if len(attention_fail[attention_fail[\"PROLIFIC_PID\"] == id]) == 0:\n",
    "            print(id)\n",
    "print(\"in my data but not in the file: \")\n",
    "for id in range(len(attention_fail)):\n",
    "    pid = attention_fail.iloc[id][\"PROLIFIC_PID\"]\n",
    "    if pid not in list(file[file[\"Completion code\"] == \"C10I36ND\"][\"Participant id\"]):\n",
    "        print(pid)\n"
   ]
  },
  {
   "cell_type": "code",
   "execution_count": null,
   "id": "f63d6894",
   "metadata": {},
   "outputs": [],
   "source": [
    "# export.to_csv(\"completion_codes.csv\")"
   ]
  }
 ],
 "metadata": {
  "kernelspec": {
   "display_name": "Python 3",
   "language": "python",
   "name": "python3"
  },
  "language_info": {
   "codemirror_mode": {
    "name": "ipython",
    "version": 3
   },
   "file_extension": ".py",
   "mimetype": "text/x-python",
   "name": "python",
   "nbconvert_exporter": "python",
   "pygments_lexer": "ipython3",
   "version": "3.10.11"
  }
 },
 "nbformat": 4,
 "nbformat_minor": 5
}
