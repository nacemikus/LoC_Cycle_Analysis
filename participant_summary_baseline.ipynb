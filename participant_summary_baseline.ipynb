{
 "cells": [
  {
   "cell_type": "code",
   "execution_count": 137,
   "id": "2678c184-324f-43c1-b59b-005f647d3a34",
   "metadata": {},
   "outputs": [],
   "source": [
    "import pandas as pd\n",
    "import os\n",
    "from os.path import isfile, join\n",
    "import numpy as np\n",
    "import json\n",
    "import ast\n",
    "import matplotlib.pyplot as plt\n",
    "import warnings\n",
    "import csv\n",
    "\n",
    "path = \"data\""
   ]
  },
  {
   "cell_type": "code",
   "execution_count": 178,
   "id": "b19fcbdc-8c8a-4ad4-8b99-0b5be0680703",
   "metadata": {},
   "outputs": [],
   "source": [
    "#download new demographics from Prolfic and new data from Cognition Run (single file!). Change filenames here, e.g. for second batch ...baseline_1\n",
    "\n",
    "batch = 1\n",
    "\n",
    "data = pd.read_csv(f\"data/CogRun_data_baseline_{batch}.csv\", quoting=csv.QUOTE_MINIMAL, engine='python')\n",
    "demogr = pd.read_csv(f\"data/prolific_demographics_baseline_{batch}.csv\", quoting=csv.QUOTE_MINIMAL, engine='python')\n",
    "\n",
    "columns = ['PROLIFIC_PID', 'sex', 'cycling', 'failed_attention_checks', 'no_press_trials', 'avg_rt', 'data rows', 'status', 'group', 'batch', 'contraception', 'menopause', 'comment']\n",
    "part = pd.DataFrame(columns=columns)"
   ]
  },
  {
   "cell_type": "code",
   "execution_count": 179,
   "id": "9b41697e-80bb-4f10-8ca7-fc322bbcff9d",
   "metadata": {},
   "outputs": [
    {
     "name": "stdout",
     "output_type": "stream",
     "text": [
      "In CogRun:  216\n",
      "ALL:  224\n",
      "['615ba31942e97cfd47ad9812', '65968cc09a29fb117cecbae6', '5e425666d872680d82f638e4', '66daf1642fab82cb5a1df01b', '670dbc335bb9e80f94a636ca', '651c15087c67f2bc3f516e86', '60cd29821711a41cf8d42a92', '67cf04ef29c9f59a6b97bd72']\n",
      "[]\n"
     ]
    }
   ],
   "source": [
    "cogrun_part = data[\"PROLIFIC_PID\"].unique()\n",
    "print(\"In CogRun: \", len(cogrun_part))\n",
    "\n",
    "all_part = demogr[\"Participant id\"].unique()\n",
    "print(\"ALL: \", len(all_part))\n",
    "\n",
    "#check if some participants only appear in one platform due to technical issues. you can also check who was not included in a group with the ingroups list.\n",
    "\n",
    "only_in_prolific = list(set(all_part) - set(cogrun_part))\n",
    "only_in_cogrun = list(set(cogrun_part) - set(all_part))\n",
    "print(only_in_prolific)\n",
    "print(only_in_cogrun)"
   ]
  },
  {
   "cell_type": "code",
   "execution_count": 180,
   "id": "4fadf37a-4418-438c-b5bc-a27ab93f5563",
   "metadata": {
    "tags": []
   },
   "outputs": [
    {
     "name": "stdout",
     "output_type": "stream",
     "text": [
      "Column titles:\n",
      "['PROLIFIC_PID', 'sex', 'cycling', 'failed_attention_checks', 'no_press_trials', 'avg_rt', 'data rows', 'status', 'group', 'batch', 'contraception', 'menopause', 'comment']\n",
      "Length:  0\n"
     ]
    }
   ],
   "source": [
    "#just a quick check\n",
    "\n",
    "print(\"Column titles:\")\n",
    "print(part.columns.tolist())\n",
    "print(\"Length: \", len(part))"
   ]
  },
  {
   "cell_type": "code",
   "execution_count": 181,
   "id": "3bdf92ba-e8b3-4fa6-993d-d4dd503cc261",
   "metadata": {},
   "outputs": [
    {
     "name": "stdout",
     "output_type": "stream",
     "text": [
      "check:  615ba31942e97cfd47ad9812\n",
      "check:  65968cc09a29fb117cecbae6\n",
      "check:  60cd29821711a41cf8d42a92\n",
      "check:  651c15087c67f2bc3f516e86\n",
      "check:  670dbc335bb9e80f94a636ca\n",
      "check:  66daf1642fab82cb5a1df01b\n",
      "check:  67cf04ef29c9f59a6b97bd72\n",
      "check:  5e425666d872680d82f638e4\n"
     ]
    }
   ],
   "source": [
    "#adds information to baseline participants table\n",
    "\n",
    "cycle = []\n",
    "no_cycle = []\n",
    "contraception = []\n",
    "\n",
    "for pid in all_part:\n",
    "    status_val = demogr.loc[demogr[\"Participant id\"] == pid, \"Status\"].values\n",
    "    count = data[data[\"PROLIFIC_PID\"] == pid].shape[0] if pid in data[\"PROLIFIC_PID\"].values else 0\n",
    "    no_press = \"NaN\"\n",
    "    sex_options = [\"female\", \"male\", \"intersex\"]\n",
    "    assigned_sex = None\n",
    "    for sex in sex_options:\n",
    "        mask = (data[\"PROLIFIC_PID\"] == pid) & (data[\"response\"] == f'{{\"assigned_sex\":\"{sex}\"}}')\n",
    "        if not data[mask].empty:\n",
    "            assigned_sex = sex\n",
    "            break\n",
    "    else: assigned_sex = demogr.loc[demogr[\"Participant id\"] == pid, \"Sex\"].values[0]\n",
    "    comment = (\n",
    "            f\"only {count} rows of CogRun data\" if count <= 100 and count > 0\n",
    "            else \"No data\" if count == 0\n",
    "            else \"\"\n",
    "        )\n",
    "    group = \"EXCLUDED\" if count <= 100 else \"\"\n",
    "\n",
    "    if pid in only_in_prolific:\n",
    "        part.loc[len(part)] = {\n",
    "            \"PROLIFIC_PID\": pid,\n",
    "            \"status\": status_val[0] if len(status_val) > 0 else \"UNKNOWN\",\n",
    "            \"group\": group,\n",
    "            \"comment\": comment,\n",
    "            \"data rows\": count,\n",
    "            \"batch\": batch,\n",
    "            \"sex\": assigned_sex\n",
    "        }\n",
    "        print(\"check: \", pid)\n",
    "        \n",
    "    else:        \n",
    "        mask_cycle = (data[\"PROLIFIC_PID\"] == pid) & (data[\"response\"] == '{\"menstrual_cycle\":\"Yes\"}')\n",
    "        mask_length = (data[\"PROLIFIC_PID\"] == pid) & (data[\"question_id\"] == 7) & (data[\"eventType\"] == \"reproductive_status\") & pd.to_numeric(data[\"response\"], errors=\"coerce\").between(21, 35)\n",
    "        mask_reg = (data[\"PROLIFIC_PID\"] == pid) & (data[\"response\"] == '{\"cycle_fluctuation\":[\"Yes, regular cycle lengths\"]}') #'{\"cycle_fluctuation\":[\"No, irregular\"]}')\n",
    "        mask_meno = (data[\"PROLIFIC_PID\"] == pid) & (data[\"response\"] == '{\"menopause_transition\":[\"No\"]}')\n",
    "        mask_meno_t = (data[\"PROLIFIC_PID\"] == pid) & (data[\"response\"] == '{\"menopause_transition\":[\"Yes\"]}')\n",
    "        mask_preg = (data[\"PROLIFIC_PID\"] == pid) & (data[\"response\"] == '{\"pregnant_breastfeeding\":[\"No\"]}')\n",
    "        mask_iud = (data[\"PROLIFIC_PID\"] == pid) & data[\"response\"].isin(['{\"iud_use\":[\"NO\"]}', '{\"iud_use\":[\"YES, COPPER IUD\"]}'])\n",
    "        mask_horm = (data[\"PROLIFIC_PID\"] == pid) & (data[\"response\"] == '{\"hormone_use\":[\"NO\"]}')\n",
    "        mask_gyn = (data[\"PROLIFIC_PID\"] == pid) & (data[\"response\"] == '{\"gynecologic_conditions\":[\"NO\"]}')\n",
    "        mask_contr = (data[\"PROLIFIC_PID\"] == pid) & (data[\"response\"] == '{\"contraceptive_use\":[\"No\"]}')\n",
    "        mask_contr_t = (data[\"PROLIFIC_PID\"] == pid) & (data[\"response\"] == '{\"contraceptive_use\":[\"Yes\"]}')\n",
    "        cyc_cond = mask_cycle.any() and mask_length.any() and mask_reg.any() and mask_meno.any() and mask_preg.any() and mask_iud.any() and mask_horm.any() and mask_gyn.any() and mask_contr.any()                  \n",
    "        \n",
    "        if group != \"EXCLUDED\":\n",
    "            if cyc_cond:\n",
    "                group = \"Cycle\"\n",
    "                cycle.append(pid)\n",
    "            else:\n",
    "                group = \"No Cycle\"\n",
    "                no_cycle.append(pid)\n",
    "                # print(f\"No Cycle for {pid}\")\n",
    "\n",
    "        if mask_contr_t.any():\n",
    "            contraception.append(pid)\n",
    "                \n",
    "        part.loc[len(part)] = {\n",
    "                \"PROLIFIC_PID\": pid,\n",
    "                \"status\": status_val[0] if len(status_val) > 0 else \"UNKNOWN\",\n",
    "                \"group\": group,\n",
    "                \"comment\": comment,\n",
    "                \"data rows\": count,\n",
    "                \"batch\": batch,\n",
    "                \"sex\": assigned_sex,\n",
    "                \"cycling\": 1 if not data[mask_cycle].empty else 0,\n",
    "                \"contraception\": 1 if not data[mask_contr_t].empty else 0,\n",
    "                \"menopause\": 1 if not data[mask_meno_t].empty else 0,\n",
    "                \"comment\": comment\n",
    "            }"
   ]
  },
  {
   "cell_type": "code",
   "execution_count": 185,
   "id": "ae76e966-15e6-433e-b498-3f133a440537",
   "metadata": {},
   "outputs": [
    {
     "name": "stdout",
     "output_type": "stream",
     "text": [
      "Amount of participants:  224\n",
      "Cycle group:  65\n",
      "No Cycle group:  138\n",
      "Cycle IDs:  ['5c63e773f9b6300001c9ce20', '6113ad4d3cf80aa40e77bbb8', '5c4f7b99b33a5300013dbfdd', '671a44d9d93641d1d9e96883', '5cab22cd68194f001511b2d6', '61601e9a6b8306196d2a129c', '60056657125e50465c15533e', '60f41ae35227aa02240ba0d9', '59cb95053306be000195be2e', '5c2b339a85602a00012ffedd', '6736f4a8fe83ffce0936bdc4', '5a9aa66a35237b000112937b', '60292aabf20c7d2af65541a7', '67d163e7b7bcc1e9718e01da', '67b9e921b4b5ee4019522dbb', '650ac282d9578d72800bf303', '60aad516e34718d318bfb44d', '66f4c82536b5c8271f53564c', '5e203085ac30fa331b586690', '67f14975a8c12321ab2d0e61', '614e1c414dff2e589169f360', '67a72a2a346c08cd36e7860a', '65f0831414fd6e9e51e08708', '6172d51173f6962cef6b18cf', '6565f2ba13586fa869dd3b28', '60ad28c6d838565067ab1b6c', '5daae19f8a06b60016d1bc32', '66c5f76d9a214b469f6476c8', '6702f60844f21087e0840e3d', '60c8a4ece55be5a30e0ccc5c', '642cb1f7f42c4e0a6c5d4eef', '664b3888f484550fe6d377bc', '65cb0f21257c8a98f470bb5d', '676e882e8a97b91ee272efe4', '6612e7f231d13a67b8e758cc', '56e4b2e044b184000b894159', '667abff30a4bfe675c592b14', '666408427db5e38fe0ea1736', '669149873799bbea50733fe0', '5c39ed7a688b59000102a145', '66aea8fcd9cd711541bf63e5', '66ebc8c5e5b772065830754d', '669a686f263cbcb8e321ed85', '667b366d0d0943e90dbee7d1', '6792a60bf1238ae52e645ecb', '672c8a3b9fb83ab9c5f02fd2', '675436e14d7ef1173a74a5b8', '6122f45e2e93a3ff9a7b7a5d', '6780db9dafd89add339abb6b', '67b89f64c09d83ec36fdd403', '605b838b80f022835fc293fb', '6743c8da977b0d274dad1fc2', '59dd90f6e75b450001a68dac', '67eab317b6f969b3df440160', '606e3cce02e2e8a8c965ca75', '673594215b1a0b92d5835525', '6744814c173b9afac78cf039', '67e074f58a5ea7d9897f3223', '5f0a7dec44c42c19a6c9f6d9', '5dd25456cc192027096069bb', '67c7672373207a4fb29efe7f', '5f0214e58782120a8c970fd6', '67eaee55a9b4d89e82b8df37', '5f5e6b9784344170b3010df3', '676578b520552faa04a8ef83']\n",
      "Contraception group:  71\n",
      "Contraception IDs:  ['6133593ca9cb1c01cc4c8de4', '66d7a63854decf633f48f674', '67d9d158b3db2c7d641840b0', '66c746f450506abe4d80b5e1', '60196480480c1403e32285a8', '668ffb93b25dcfcfbe1836a4', '6697c4e76e01a2e71f34cd33', '5c59ceb27e554c0001257ff4', '5aea25acd9f2be0001933493', '614de26d812e1b34acd48dfb', '61715a02a3c88f5fb082a424', '66cf43db332889da5054c9e8', '668daa061b4a36bcfd2591c6', '5bfd8910eed5280001ead1dd', '65fae23bd06ae76bcc297e8b', '6658c1554c1d2a4e2d02e301', '60cd16e63d3924958e8d3d43', '67ceea767be1306940ed6800', '669bba2714caa691679bff24', '67d95269b47464c18da766ca', '664c9a37d570871d534dd3c2', '669f76a7112b8713f104644c', '66797151cf3b1921be1c405a', '67cea841046ca74e2069ae47', '67db387c909560bc7b65ea88', '666c4699beb014a7b85ccea1', '67d057fe81435b77cf5a4681', '67e94945e5f6a3090ed5a9d0', '6617c54a41ce14946db85944', '611e2d4ad083c861391122b2', '6661b36954d5d29cf5a38578', '66a1a7d0d0d19196eb010216', '655621646782dec335983823', '669f431d69d93f9fdb0d119d', '5537b204fdf99b51eefed679', '674da5296d8cc775b40c8311', '60ddcd80bbeb3c7f8958f6bf', '65a3f461bfa22dde98c10436', '667ac09492ea0caadf488520', '5f60f6b65bd9c0022dcf9ace', '671d0e15c134a5355de39a6d', '6729f8c001f004ff58eb68b8', '60547b4561f591f963b10ca7', '65faedca7e439b344f133fdb', '66bee53cfe67b3e6342cb2ba', '66cddace684f1110e8c8a883', '60fd34d68de7efbcd7de57a0', '66bb2110c5672f09961feed2', '683dda03c88521ebe8cba79e', '65fb13bebfa339f73b4cf76a', '6785052a054e7c96c09f69cd', '66703ac57933f5d73067da2d', '675ee689e18bf69c5cb1b944', '64d23e803ee1da9a01e52faa', '67d04d58fc4188d981d914f0', '60cdae5d942a76a98eba611a', '67cb03fa5ff535a5286dfe41', '67ee905678cf0672e9f3afc5', '67cac9c704712b2393e52905', '677fb45dee7e90f416b55aea', '67e575f103799e89aacd209c', '67c97feed736e0aa1f2a97b2', '67e1a47dae2e2e04aa7d8417', '6820e30a98ebaa472670fd3d', '67acf1d438e2c92a40f88a9e', '666f635d8dd0ca4982930967', '67882f09d81a89e769f8f51f', '67d846e847a41d29a7f6fcb3', '660eafee7515c432e850362d', '666316060a19030e10987142', '67db086caaf7ec9f16d9e256']\n",
      "Duplicates in paricipants:  Empty DataFrame\n",
      "Columns: [PROLIFIC_PID, sex, cycling, failed_attention_checks, no_press_trials, avg_rt, data rows, status, group, batch, contraception, menopause, comment]\n",
      "Index: []\n",
      "common:  set()\n"
     ]
    }
   ],
   "source": [
    "#check if length and groups seem fine, take glimps at the saved info. If duplicates, check code above.\n",
    "\n",
    "print(\"Amount of participants: \", len(part))\n",
    "#print(part)\n",
    "\n",
    "print(\"Cycle group: \", len(cycle))\n",
    "print(\"No Cycle group: \", len(no_cycle))\n",
    "print(\"Cycle IDs: \", cycle)\n",
    "print(\"Contraception group: \", len(contraception))\n",
    "print(\"Contraception IDs: \", contraception)\n",
    "\n",
    "duplicates = part[part.duplicated(subset=['PROLIFIC_PID'], keep=False)]\n",
    "print(\"Duplicates in paricipants: \", duplicates)\n",
    "\n",
    "common = set(cycle) & set(contraception)\n",
    "print(\"common: \", common)"
   ]
  },
  {
   "cell_type": "code",
   "execution_count": 186,
   "id": "e8bed0c7-6366-4b02-b387-24087a59b8b1",
   "metadata": {},
   "outputs": [
    {
     "name": "stdout",
     "output_type": "stream",
     "text": [
      "IUS attention check failed:  67e469d0bbb689eacffa0ee0\n",
      "No data:  615ba31942e97cfd47ad9812\n",
      "IUS attention check failed:  65faedca7e439b344f133fdb\n",
      "No data:  65968cc09a29fb117cecbae6\n",
      "No data:  60cd29821711a41cf8d42a92\n",
      "No data:  651c15087c67f2bc3f516e86\n",
      "No data:  670dbc335bb9e80f94a636ca\n",
      "No data:  66daf1642fab82cb5a1df01b\n",
      "No data:  67cf04ef29c9f59a6b97bd72\n",
      "No data:  5e425666d872680d82f638e4\n",
      "done\n"
     ]
    }
   ],
   "source": [
    "#check for no press trials and attention checks and add info to participant summary; wait until done. Check what happened with the ones that don't have data, maybe ask them on Prolific.\n",
    "    \n",
    "for pid in part[\"PROLIFIC_PID\"]:\n",
    "    rows = data.index[data[\"PROLIFIC_PID\"] == pid].tolist() if pid in data[\"PROLIFIC_PID\"].values else []\n",
    "    if rows == []:\n",
    "        print(\"No data: \", pid)\n",
    "        no_presses = \"no data\"\n",
    "    else:\n",
    "        no_presses = 0\n",
    "        att_fail = 0\n",
    "        for r in rows:\n",
    "            if data.loc[r][\"trial_type\"] == \"ctl-task-cpt\":\n",
    "                sum_rt = 0\n",
    "                num_rt = 0\n",
    "                try:\n",
    "                    key_presses = ast.literal_eval(data.loc[r][\"key_presses\"])\n",
    "                    for j in range(len(key_presses)):\n",
    "                        if key_presses[j] in [\"smooth\", \"error\", \"oops\", \"while_blue\", \"while_red\"]:\n",
    "                            num_rt += 1\n",
    "                            sum_rt += float(key_presses[j - 1])\n",
    "                    if num_rt != 0:\n",
    "                        avg_rt = sum_rt / num_rt\n",
    "                    else:\n",
    "                        no_presses += 1\n",
    "                except ValueError:\n",
    "                    warnings.warn_explicit(\"NaN value in reaction time ignored\", Warning, pid, data.loc[r][\"trial_index\"])\n",
    "            if data.loc[r][\"eventType\"] == \"ius\":\n",
    "                answrs = ast.literal_eval(data.loc[r][\"responses\"])\n",
    "                if int(answrs[\"Q08\"]) > 1:\n",
    "                    print(\"IUS attention check failed: \", pid)\n",
    "                    att_fail += 1\n",
    "            if data.loc[r][\"eventType\"] == \"phq\":\n",
    "                answrs = ast.literal_eval(data.loc[r][\"responses\"])\n",
    "                if int(answrs[\"Q07\"]) != 2:\n",
    "                    print(\"PHQ attention check failed: \", pid)\n",
    "                    att_fail += 1\n",
    "            if data.loc[r][\"eventType\"] == \"psst\":\n",
    "                answrs = ast.literal_eval(data.loc[r][\"responses\"])\n",
    "                if int(answrs[\"Q09\"]) > 1:\n",
    "                    print(\"PSST attention check failed: \", pid)\n",
    "                    att_fail += 1\n",
    "                \n",
    "    row_p = part[part[\"PROLIFIC_PID\"] == pid].index[0]\n",
    "    part.loc[row_p, [\"no_press_trials\"]] = no_presses\n",
    "    part.loc[row_p, [\"avg_rt\"]] = avg_rt\n",
    "    part.loc[row_p, [\"failed_attention_checks\"]] = att_fail\n",
    "        \n",
    "print(\"done\")"
   ]
  },
  {
   "cell_type": "code",
   "execution_count": 160,
   "id": "bd8402d4-2aad-45ea-b18d-0677d07b81a8",
   "metadata": {},
   "outputs": [],
   "source": [
    "#creates a csv file with the participant summary\n",
    "\n",
    "part.to_csv(f\"data/participants_baseline_{batch}.csv\", index=False)"
   ]
  },
  {
   "cell_type": "code",
   "execution_count": null,
   "id": "2f825b59-3e0e-492b-b83e-1dd07269748c",
   "metadata": {},
   "outputs": [],
   "source": [
    "#In the file check for the following:\n",
    "# - Participants with more than 5 no press trials -> ask to return!\n",
    "# - Participants with more than 2 failed attention checks -> should have failed attention check completion code\n",
    "# - Participants with less data rows than 100 -> didn't finish the task and should be asked to return\n",
    "# => all of the above should be removed from Cycle and No Cycle groups, crosscheck in the end with Prolific if everyone returned or timed out was excluded from all gorups\n",
    "\n",
    "#In Prolific: \n",
    "# - Check for people with completion code \"No Code\" \n",
    "# -> if CogRun data is present, check what completion code they should have gotten, assign to group and pay bonus if applicable\n",
    "# -> if no or little data in CogRun ask to return\n",
    "# - If you are unsure about grouping someone (e.g. due to ambiguous data), you can ask them and then regroup accordingly.\n",
    "\n",
    "#Sanity checks you can do:\n",
    "# - check if participants are grouped the same here vs. Prolific \n",
    "# - Participants grouped to Cycle but contraception = 1 -> check data, keep in Cycle group if Copper IUD or mistake, otherwise change groups\n",
    "# - Compare if all in Cycle group are cycling and female -> if not, check data or ask participant\n",
    "# - Check if reaction times seem reasonable"
   ]
  },
  {
   "cell_type": "code",
   "execution_count": null,
   "id": "303e2737-f415-432c-95ef-945539d63f8b",
   "metadata": {},
   "outputs": [],
   "source": []
  },
  {
   "cell_type": "code",
   "execution_count": null,
   "id": "0af2cf53-1cab-4c9d-a907-7fbf9e40e020",
   "metadata": {},
   "outputs": [],
   "source": []
  },
  {
   "cell_type": "code",
   "execution_count": null,
   "id": "373fe706-5903-4475-8c94-1aec2618f855",
   "metadata": {},
   "outputs": [],
   "source": []
  },
  {
   "cell_type": "code",
   "execution_count": null,
   "id": "7ac1c7f4-a4d6-4466-b33d-28928e31d122",
   "metadata": {},
   "outputs": [],
   "source": []
  },
  {
   "cell_type": "code",
   "execution_count": null,
   "id": "2c5453ff-f6d7-4370-9089-a2cfbbd90dbc",
   "metadata": {},
   "outputs": [],
   "source": []
  },
  {
   "cell_type": "code",
   "execution_count": null,
   "id": "a8a0c43e-e879-48a3-b981-399eac3fc8f6",
   "metadata": {},
   "outputs": [],
   "source": []
  }
 ],
 "metadata": {
  "kernelspec": {
   "display_name": "Python 3 (ipykernel)",
   "language": "python",
   "name": "python3"
  },
  "language_info": {
   "codemirror_mode": {
    "name": "ipython",
    "version": 3
   },
   "file_extension": ".py",
   "mimetype": "text/x-python",
   "name": "python",
   "nbconvert_exporter": "python",
   "pygments_lexer": "ipython3",
   "version": "3.8.10"
  }
 },
 "nbformat": 4,
 "nbformat_minor": 5
}
