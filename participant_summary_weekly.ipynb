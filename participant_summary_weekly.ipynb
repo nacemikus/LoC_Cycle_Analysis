{
 "cells": [
  {
   "cell_type": "code",
   "execution_count": 2,
   "id": "2678c184-324f-43c1-b59b-005f647d3a34",
   "metadata": {},
   "outputs": [],
   "source": [
    "import pandas as pd\n",
    "import os\n",
    "from os.path import isfile, join\n",
    "import numpy as np\n",
    "import json\n",
    "import ast\n",
    "import matplotlib.pyplot as plt\n",
    "import warnings\n",
    "import csv\n",
    "\n",
    "path = \"data\""
   ]
  },
  {
   "cell_type": "code",
   "execution_count": 48,
   "id": "b19fcbdc-8c8a-4ad4-8b99-0b5be0680703",
   "metadata": {},
   "outputs": [],
   "source": [
    "#get new demographics from Prolific and new data from Cognition Run (single file!), change filenames by changing batch and week number\n",
    "\n",
    "batch = 0\n",
    "week = 1\n",
    "\n",
    "data = pd.read_csv(f\"data/CogRun_data_batch{batch}_week{week}.csv\", quoting=csv.QUOTE_MINIMAL, engine='python')\n",
    "demogr = pd.read_csv(f\"data/prolific_demographics_batch{batch}_week{week}.csv\", quoting=csv.QUOTE_MINIMAL, engine='python')\n",
    "demogr_bsln = pd.read_csv(f\"data/prolific_demographics_baseline_{batch}.csv\", quoting=csv.QUOTE_MINIMAL, engine='python')"
   ]
  },
  {
   "cell_type": "code",
   "execution_count": 18,
   "id": "9b41697e-80bb-4f10-8ca7-fc322bbcff9d",
   "metadata": {},
   "outputs": [
    {
     "name": "stdout",
     "output_type": "stream",
     "text": [
      "In CogRun:  33\n",
      "ALL:  34\n",
      "['6786c32f329b1d694103f225']\n",
      "[]\n"
     ]
    }
   ],
   "source": [
    "#check if some participants only appear in one platform due to technical issues.\n",
    "\n",
    "cogrun_part = data[\"PROLIFIC_PID\"].unique()\n",
    "print(\"In CogRun: \", len(cogrun_part))\n",
    "\n",
    "all_part = demogr[\"Participant id\"].unique()\n",
    "print(\"ALL: \", len(all_part)) \n",
    "\n",
    "only_in_prolific = list(set(all_part) - set(cogrun_part)) \n",
    "only_in_cogrun = list(set(cogrun_part) - set(all_part)) #this should always be 0\n",
    "print(only_in_prolific)\n",
    "print(only_in_cogrun)"
   ]
  },
  {
   "cell_type": "code",
   "execution_count": 38,
   "id": "4fadf37a-4418-438c-b5bc-a27ab93f5563",
   "metadata": {
    "tags": []
   },
   "outputs": [
    {
     "name": "stdout",
     "output_type": "stream",
     "text": [
      "Column titles:\n",
      "['PROLIFIC_PID', 'sex', 'bled', 'failed_attention_checks', 'no_press_trials', 'avg_rt', 'data rows', 'status', 'action', 'batch', 'contraception', 'comment']\n",
      "Length:  0\n"
     ]
    }
   ],
   "source": [
    "#create the dataframe you will write in and then safe to csv\n",
    "\n",
    "columns = ['PROLIFIC_PID', 'sex', 'bled', 'failed_attention_checks', 'no_press_trials', 'avg_rt', 'data rows', 'status', 'action', 'batch', 'contraception', 'comment']\n",
    "part = pd.DataFrame(columns=columns)\n",
    "\n",
    "#just a quick check\n",
    "\n",
    "print(\"Column titles:\")\n",
    "print(part.columns.tolist())\n",
    "print(\"Length: \", len(part))"
   ]
  },
  {
   "cell_type": "code",
   "execution_count": 39,
   "id": "3bdf92ba-e8b3-4fa6-993d-d4dd503cc261",
   "metadata": {},
   "outputs": [
    {
     "name": "stdout",
     "output_type": "stream",
     "text": [
      "No Cycle anymore for 66a4f108a03ede09bb40255c - check reason\n",
      "No Cycle anymore for 66952367721687887540318f - check reason\n",
      "check what happened to data of 6786c32f329b1d694103f225\n"
     ]
    }
   ],
   "source": [
    "#adds information to participants summary table\n",
    "\n",
    "cycle = []\n",
    "no_cycle = [] #all of them should be cycling in the weekly and this should therefore stay empty\n",
    "\n",
    "for pid in all_part:\n",
    "    status_val = demogr.loc[demogr[\"Participant id\"] == pid, \"Status\"].values\n",
    "    count = data[data[\"PROLIFIC_PID\"] == pid].shape[0] if pid in data[\"PROLIFIC_PID\"].values else 0\n",
    "    no_press = \"NaN\" #added later below\n",
    "    sex = demogr.loc[demogr[\"Participant id\"] == pid, \"Sex\"].values[0]\n",
    "    comment = (\n",
    "            f\"only {count} rows of CogRun data\" if count <= 100 and count > 0\n",
    "            else \"No data\" if count == 0\n",
    "            else \"\"\n",
    "        )\n",
    "    action = \"RETURN\" if count <= 100 else \"\"\n",
    "\n",
    "    if pid in only_in_prolific:\n",
    "        part.loc[len(part)] = {\n",
    "            \"PROLIFIC_PID\": pid,\n",
    "            \"status\": status_val[0] if len(status_val) > 0 else \"UNKNOWN\",\n",
    "            \"action\": action,\n",
    "            \"comment\": comment,\n",
    "            \"data rows\": count,\n",
    "            \"batch\": batch,\n",
    "            \"sex\": sex\n",
    "        }\n",
    "        print(\"check what happened to data of\", pid)\n",
    "        \n",
    "    else:        \n",
    "        mask_bled = (data[\"PROLIFIC_PID\"] == pid) & (data[\"response\"] == '{\"bleeding\":[\"Yes\"]}')\n",
    "        mask_preg = (data[\"PROLIFIC_PID\"] == pid) & (data[\"response\"] == '{\"pregnancy\":[\"No\"]}')\n",
    "        mask_horm = (data[\"PROLIFIC_PID\"] == pid) & (data[\"response\"] == '{\"hormonal_contraceptives\":[\"No\"]}')\n",
    "        mask_med = (data[\"PROLIFIC_PID\"] == pid) & (data[\"response\"] == '{\"affect_hormones\":[\"No\"]}')\n",
    "        cyc_cond = mask_preg.any() and mask_horm.any() and mask_med.any()                  \n",
    "\n",
    "        if action != \"RETURN\":\n",
    "            if cyc_cond:\n",
    "                action = \"\"\n",
    "                cycle.append(pid)\n",
    "            else:\n",
    "                action = \"Remove from Cycle group\"\n",
    "                no_cycle.append(pid)\n",
    "                print(f\"No Cycle anymore for {pid} - check reason\")\n",
    "\n",
    "        part.loc[len(part)] = {\n",
    "                \"PROLIFIC_PID\": pid,\n",
    "                \"status\": status_val[0] if len(status_val) > 0 else \"UNKNOWN\",\n",
    "                \"action\": action,\n",
    "                \"comment\": comment,\n",
    "                \"data rows\": count,\n",
    "                \"batch\": batch,\n",
    "                \"sex\": sex,\n",
    "                \"bled\": 1 if not data[mask_bled].empty else 0,\n",
    "                \"contraception\": 1 if data[mask_horm].empty else 0,\n",
    "                \"comment\": comment\n",
    "            }"
   ]
  },
  {
   "cell_type": "code",
   "execution_count": 43,
   "id": "ae76e966-15e6-433e-b498-3f133a440537",
   "metadata": {},
   "outputs": [
    {
     "name": "stdout",
     "output_type": "stream",
     "text": [
      "Amount of participants:  34\n",
      "Cycle:  30\n",
      "No Cycle:  2\n",
      "No Cycle IDs:  ['66a4f108a03ede09bb40255c', '66952367721687887540318f']\n",
      "Duplicates in participants:  Empty DataFrame\n",
      "Columns: [PROLIFIC_PID, sex, bled, failed_attention_checks, no_press_trials, avg_rt, data rows, status, action, batch, contraception, comment]\n",
      "Index: []\n"
     ]
    }
   ],
   "source": [
    "#check if length and groups seem fine, take glimps at the saved info. If duplicates, check code above (you probably ran it twice without creating a new empty dataframe).\n",
    "\n",
    "print(\"Amount of participants: \", len(part))\n",
    "# print(part)\n",
    "\n",
    "print(\"Cycle: \", len(cycle))\n",
    "print(\"No Cycle: \", len(no_cycle))\n",
    "print(\"No Cycle IDs: \", no_cycle) #check why those don't seem to cycle anymore\n",
    "\n",
    "duplicates = part[part.duplicated(subset=['PROLIFIC_PID'], keep=False)]\n",
    "print(\"Duplicates in participants: \", duplicates)"
   ]
  },
  {
   "cell_type": "code",
   "execution_count": 47,
   "id": "303e2737-f415-432c-95ef-945539d63f8b",
   "metadata": {},
   "outputs": [
    {
     "name": "stdout",
     "output_type": "stream",
     "text": [
      "No data:  6786c32f329b1d694103f225\n",
      "PHQ attention check failed: 60f7c71d1cffec381351b0b3\n"
     ]
    }
   ],
   "source": [
    "#check for no press trials and attention checks and add info to participant summary. Check what happened with the ones that don't have data, maybe ask them on Prolific.\n",
    "\n",
    "attention_failures = [\n",
    "    '{\"attention_check\":[\"Yes\"]}',\n",
    "    '{\"attention_check\":[\"Rather not tell\"]}'\n",
    "]\n",
    "\n",
    "for pid in part[\"PROLIFIC_PID\"]:\n",
    "    df_pid = data[data[\"PROLIFIC_PID\"] == pid]\n",
    "    \n",
    "    if df_pid.empty:\n",
    "        print(\"No data: \", pid)\n",
    "        no_presses = \"no data\"\n",
    "        avg_rt = np.nan\n",
    "        att_fail = 0\n",
    "    else:\n",
    "        no_presses = 0\n",
    "        att_fail = 0\n",
    "        rt_list = []\n",
    "\n",
    "        df_cpt = df_pid[df_pid[\"trial_type\"] == \"ctl-task-cpt\"]\n",
    "\n",
    "        for _, row in df_cpt.iterrows():\n",
    "            try:\n",
    "                key_presses = ast.literal_eval(row[\"key_presses\"])\n",
    "                sum_rt = 0\n",
    "                num_rt = 0\n",
    "                for j in range(len(key_presses)):\n",
    "                    if key_presses[j] in [\"smooth\", \"error\", \"oops\", \"while_blue\", \"while_red\"]:\n",
    "                        if j > 0:\n",
    "                            num_rt += 1\n",
    "                            sum_rt += float(key_presses[j - 1])\n",
    "                if num_rt != 0:\n",
    "                    rt_list.append(sum_rt / num_rt)\n",
    "                else:\n",
    "                    no_presses += 1\n",
    "            except (ValueError, SyntaxError):\n",
    "                warnings.warn_explicit(\"NaN value in reaction time ignored\", Warning, pid, row[\"trial_index\"])\n",
    "                continue\n",
    "        avg_rt = np.mean(rt_list) if rt_list else np.nan\n",
    "\n",
    "        att_fail += df_pid[\"response\"].isin(attention_failures).sum()\n",
    "        df_drsp = df_pid[df_pid[\"eventType\"] == \"drsp\"]\n",
    "        for _, row in df_drsp.iterrows():\n",
    "            try:\n",
    "                answers = ast.literal_eval(row[\"responses\"])\n",
    "                if int(answers[\"Q13\"]) != 5:\n",
    "                    print(\"PHQ attention check failed:\", pid)\n",
    "                    att_fail += 1\n",
    "            except (ValueError, KeyError):\n",
    "                continue\n",
    "\n",
    "    row_p = part[part[\"PROLIFIC_PID\"] == pid].index[0]\n",
    "    part.loc[row_p, \"no_press_trials\"] = no_presses\n",
    "    part.loc[row_p, \"avg_rt\"] = avg_rt\n",
    "    part.loc[row_p, \"failed_attention_checks\"] = att_fail"
   ]
  },
  {
   "cell_type": "code",
   "execution_count": 45,
   "id": "bd8402d4-2aad-45ea-b18d-0677d07b81a8",
   "metadata": {},
   "outputs": [],
   "source": [
    "#creates a csv file with the participant summary\n",
    "\n",
    "part.to_csv(f\"data/participants_batch{batch}_week{week}.csv\", index=False)"
   ]
  },
  {
   "cell_type": "code",
   "execution_count": null,
   "id": "2f825b59-3e0e-492b-b83e-1dd07269748c",
   "metadata": {},
   "outputs": [],
   "source": [
    "#In the file check for the following:\n",
    "# - Participants with more than 5 no press trials -> ask to return!\n",
    "# - Participants with more than 2 failed attention checks -> should have failed attention check completion code\n",
    "# - Participants with less data rows than 100 -> didn't finish the task and should be asked to return\n",
    "# => no need to remove anyone from groups at this point, all that performed fine during baseline will be reinvited\n",
    "# - If action tells you to remove participants from Cycle group, they clicked something that indicates they don't cycle anymore -> check what's the reason in the CogRun data \n",
    "# -> if seems valid (e.g. got pregnant) remove from Cycle group in Prolific and include in No Cycle\n",
    "# -> sometimes they just use a copper IUD and think it's hormonal - it's not so we leave them in\n",
    "# - Participants who have status \"time out\" or \"returned\", but their data otherwise seems fine -> double check CogRun data and potentially pay them anyways\n",
    "# - Participants who have 2 data rows + completion code probably cheated (ask Clara or Nace what that means) and may complain that they want to be paid -> decide one by one, but try to return\n",
    "\n",
    "#In Prolific: \n",
    "# - Check for people with completion code \"No Code\" \n",
    "# -> if CogRun data is present, check what completion code they should have gotten, assign to group and pay bonus if applicable\n",
    "# -> if no or little data in CogRun ask to return\n",
    "\n",
    "#Sanity checks you can do:\n",
    "# - Participants grouped to Cycle but contraception = 1 -> check data, keep in Cycle group if Copper IUD or mistake, otherwise change groups\n",
    "# - Compare if all in Cycle group are cycling and female -> if not, check data or ask participant\n",
    "# - Check if reaction times seem reasonable"
   ]
  },
  {
   "cell_type": "code",
   "execution_count": null,
   "id": "e8bed0c7-6366-4b02-b387-24087a59b8b1",
   "metadata": {},
   "outputs": [],
   "source": []
  },
  {
   "cell_type": "code",
   "execution_count": null,
   "id": "0af2cf53-1cab-4c9d-a907-7fbf9e40e020",
   "metadata": {},
   "outputs": [],
   "source": []
  },
  {
   "cell_type": "code",
   "execution_count": null,
   "id": "373fe706-5903-4475-8c94-1aec2618f855",
   "metadata": {},
   "outputs": [],
   "source": []
  },
  {
   "cell_type": "code",
   "execution_count": null,
   "id": "7ac1c7f4-a4d6-4466-b33d-28928e31d122",
   "metadata": {},
   "outputs": [],
   "source": []
  },
  {
   "cell_type": "code",
   "execution_count": null,
   "id": "2c5453ff-f6d7-4370-9089-a2cfbbd90dbc",
   "metadata": {},
   "outputs": [],
   "source": []
  },
  {
   "cell_type": "code",
   "execution_count": null,
   "id": "a8a0c43e-e879-48a3-b981-399eac3fc8f6",
   "metadata": {},
   "outputs": [],
   "source": []
  }
 ],
 "metadata": {
  "kernelspec": {
   "display_name": "Python 3 (ipykernel)",
   "language": "python",
   "name": "python3"
  },
  "language_info": {
   "codemirror_mode": {
    "name": "ipython",
    "version": 3
   },
   "file_extension": ".py",
   "mimetype": "text/x-python",
   "name": "python",
   "nbconvert_exporter": "python",
   "pygments_lexer": "ipython3",
   "version": "3.8.10"
  }
 },
 "nbformat": 4,
 "nbformat_minor": 5
}
